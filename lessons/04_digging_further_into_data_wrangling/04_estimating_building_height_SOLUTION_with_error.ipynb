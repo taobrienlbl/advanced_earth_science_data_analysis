{
 "cells": [
  {
   "cell_type": "markdown",
   "metadata": {},
   "source": [
    "<a target=\"_blank\" href=\"https://colab.research.google.com/github/taobrienlbl/advanced_earth_science_data_analysis/blob/spring_2023_iub/lessons/04_digging_further_into_data_wrangling/04_estimating_building_height.ipynb\">\n",
    "  <img src=\"https://colab.research.google.com/assets/colab-badge.svg\" alt=\"Open In Colab\"/>\n",
    "</a>\n",
    "\n",
    "This exercise aims to build on your knowledge of the big-four data science libraries to use Kestrel atmospheric measurement devices to estimate the height difference between the ground floor and sixth floor of the Geology building.\n",
    "\n",
    "# Background\n",
    "\n",
    "Air pressure monotonically decreases with height in the atmosphere.  This is simply due to the fact that *air pressure is a measure of the weight of everything above*.  So higher up in the atmosphere there is less atmosphere (weight) above, and pressure decreases.\n",
    "\n",
    "One of the basic principles of fluid dynamics is that a *pressure gradient*--a change in pressure over some distance--exerts a net force on the fluid that, in the absence of other forces, would cause the fluid to move.  So why then does the atmosphere not flow away to space in response to this pressure gradient?\n",
    "\n",
    "To a very good approximation, the atmosphere is in *hydrostatic balance*, meaning that the vertical pressure gradient is balanced by the force of gravity on the air; gravity effectively negates the pressure gradient force.  This leads to one of the most essential equations in atmospheric science:\n",
    "\n",
    "$$ \\frac{\\partial p}{\\partial z} = -\\rho g$$\n",
    "\n",
    "where $p$ is the atmospheric pressure, $z$ is height away from the surface, $\\rho$ is air density, and $g$ is the gravitational acceleration (we'll use $g \\approx 9.806~\\text{m s}^{-2}$ here).\n",
    "\n",
    "If we combine this with the ideal gas law (written in a form that is convenient for atmospheric gasses, where $R_d \\approx 287~\\text{J kg}^{-1}\\text{K}^{-1}$ represents a constant for air with the composition of Earth's atmosphere), we get a differential equation for pressure.\n",
    "\n",
    "$$\\text{Ideal gas law: }~p = \\rho R_d T \\to $$\n",
    "\n",
    "$$ \\frac{\\partial p}{\\partial z} = - \\frac{p g}{R_d T} $$\n",
    "\n",
    "We can approximate the derivatives in this equation using finite differences: $\\partial p/\\partial z \\to \\Delta p / \\Delta z$, where $\\Delta$ represents a (presumably small) difference between two pressure or height measurements.  We can then use this to solve for the change in height as a function of changes in pressure:\n",
    "\n",
    "$$ \\Delta z \\approx - \\frac{R_d T}{g} \\frac{\\Delta p}{p}$$\n",
    "\n",
    "# Estimating height\n",
    "\n",
    "Now imagine that we have a device that records pressure and temperature every second or so.  If you take that device and walk up a set of stairs, the recorded pressure will drop a bit for every second that you're ascending.  A pair of measurements taken at consecutive times can be used to estimate $\\Delta p$, and the average of the two measurements can be used to estimate $p$ and $T$ over tha same time frame.  These values can be plugged in to the above formula to estimate the change in height between the two measurements.  The sum of all the changes in height then gives an estimate of the total change in height; we will have numerically integrated the differential equation that comes from combining hydrostatic balance and the ideal gas law.\n",
    "\n",
    "## Instructions\n",
    "\n",
    "1. form groups of two or three\n",
    "1. acquaint yourself with the Kestrel measuring devices, and pair it to at least one of your phones using [Kestrel Link](https://kestrelinstruments.com/link-connectivity)\n",
    "1. ensure that you can record measurements and export them to csv\n",
    "1. take the kestrel device down to the ground floor of the Geology building; go to the loop\n",
    "1. start recording\n",
    "1. either walk up the stairwell, or take the elevator, up to the 7th floor (you can only access this floor from the western stairwell)\n",
    "1. end recording\n",
    "1. export the data to a CSV file and add it to your course git folder (into a folder for lesson 04)\n",
    "1. estimate the difference in height between the two floors using the method above (*hint*: you should use `pandas`, and you should be able to make a new column for the calculation of $\\Delta p$ and $\\Delta z$ for each measurement, and then use the `.sum()` method)"
   ]
  },
  {
   "cell_type": "markdown",
   "metadata": {},
   "source": [
    "# Data collection process\n",
    "\n",
    "I paired the kestrel device, 2414781, with my iphone, walked down to the first floor, started recording on the Kestrel Link app, then walked slowly up to the 7th floor while recording.  I waited for about 20 seconds on the 7th floor before I finished recording.  I then saved the recording session and exported it to a CSV file that I uploaded to Google Drive and then copied locally here: `WEATHER_-_2414781_Sep_15_2023_2_56_14_PM.csv`.\n",
    "\n",
    "# Thoughts about the data file\n",
    "\n",
    "Inspection of the data file shows that it has 5 rows of what appear to be header data, e.g.:\n",
    "\n",
    "```\n",
    "Device Name,WEATHER - 2414781\n",
    "Device Model,5500L\n",
    "Serial Number,2414781\n",
    "FORMATTED DATE_TIME,Temperature,Wet Bulb Temp,Relative Humidity,Barometric Pressure,Altitude,Station Pressure,Wind Speed,Heat Index,Dew Point,Density Altitude,Crosswind,Headwind,Compass Magnetic Direction,Compass True Direction,Wind Chill\n",
    "yyyy-MM-dd hh:mm:ss a,°C,°C,%,mb,m,mb,km/h,°C,°C,m,km/h,km/h,Deg,Deg,°C,Data Type,Record name,Start time,Duration (H:M:S),Location description,Location address,Location coordinates,Notes\n",
    "2023-09-15 02:53:19 PM,21.0,14.9,52.8,992.0,176,992.0,0.0,20.5,11.0,487,--,--,--,--,21.0,session,\"Session - Sep 15, 2023 2:53:18 PM\",2023-09-15 02:53:18 PM 2:53:18 PM,00:02:58,,,,Enter Notes\n",
    "2023-09-15 02:53:24 PM,21.1,14.9,52.5,992.2,173,992.3,1.2,20.4,11.0,484,--,--,--,--,21.0,session,\"Session - Sep 15, 2023 2:53:18 PM\",2023-09-15 02:53:18 PM 2:53:18 PM,00:02:58,,,,Enter Notes\n",
    "...\n",
    "```\n",
    "\n",
    "For the purposes of this analysis, I don't really care about the first three rows.  The fourth row, index 3, appears to have good column names, so I'll try to use that for the header.  The fifth row (index 4) has the units of the data.  While I would like to include the units, I'll just make note here that the temperatures are in Celsius and the pressures are in mb (hPa), so I'll have to convert before plugging in to the hydrostatic equation.\n",
    "\n",
    "n.b. when playing around with opening the file, I found that the number of columns in the header row didn't match the actual number of data columns.  I used the `usecols` argument to force usage of only the first 16 columns, which contain the data I want."
   ]
  },
  {
   "cell_type": "code",
   "execution_count": 1,
   "metadata": {},
   "outputs": [
    {
     "data": {
      "text/html": [
       "<div>\n",
       "<style scoped>\n",
       "    .dataframe tbody tr th:only-of-type {\n",
       "        vertical-align: middle;\n",
       "    }\n",
       "\n",
       "    .dataframe tbody tr th {\n",
       "        vertical-align: top;\n",
       "    }\n",
       "\n",
       "    .dataframe thead th {\n",
       "        text-align: right;\n",
       "    }\n",
       "</style>\n",
       "<table border=\"1\" class=\"dataframe\">\n",
       "  <thead>\n",
       "    <tr style=\"text-align: right;\">\n",
       "      <th></th>\n",
       "      <th>FORMATTED DATE_TIME</th>\n",
       "      <th>Temperature</th>\n",
       "      <th>Wet Bulb Temp</th>\n",
       "      <th>Relative Humidity</th>\n",
       "      <th>Barometric Pressure</th>\n",
       "      <th>Altitude</th>\n",
       "      <th>Station Pressure</th>\n",
       "      <th>Wind Speed</th>\n",
       "      <th>Heat Index</th>\n",
       "      <th>Dew Point</th>\n",
       "      <th>Density Altitude</th>\n",
       "      <th>Crosswind</th>\n",
       "      <th>Headwind</th>\n",
       "      <th>Compass Magnetic Direction</th>\n",
       "      <th>Compass True Direction</th>\n",
       "      <th>Wind Chill</th>\n",
       "    </tr>\n",
       "  </thead>\n",
       "  <tbody>\n",
       "    <tr>\n",
       "      <th>0</th>\n",
       "      <td>2023-09-15 14:53:19</td>\n",
       "      <td>21.0</td>\n",
       "      <td>14.9</td>\n",
       "      <td>52.8</td>\n",
       "      <td>992.0</td>\n",
       "      <td>176</td>\n",
       "      <td>992.0</td>\n",
       "      <td>0.0</td>\n",
       "      <td>20.5</td>\n",
       "      <td>11.0</td>\n",
       "      <td>487</td>\n",
       "      <td>--</td>\n",
       "      <td>--</td>\n",
       "      <td>--</td>\n",
       "      <td>--</td>\n",
       "      <td>21.0</td>\n",
       "    </tr>\n",
       "    <tr>\n",
       "      <th>1</th>\n",
       "      <td>2023-09-15 14:53:24</td>\n",
       "      <td>21.1</td>\n",
       "      <td>14.9</td>\n",
       "      <td>52.5</td>\n",
       "      <td>992.2</td>\n",
       "      <td>173</td>\n",
       "      <td>992.3</td>\n",
       "      <td>1.2</td>\n",
       "      <td>20.4</td>\n",
       "      <td>11.0</td>\n",
       "      <td>484</td>\n",
       "      <td>--</td>\n",
       "      <td>--</td>\n",
       "      <td>--</td>\n",
       "      <td>--</td>\n",
       "      <td>21.0</td>\n",
       "    </tr>\n",
       "    <tr>\n",
       "      <th>2</th>\n",
       "      <td>2023-09-15 14:53:29</td>\n",
       "      <td>21.2</td>\n",
       "      <td>14.9</td>\n",
       "      <td>51.4</td>\n",
       "      <td>991.7</td>\n",
       "      <td>178</td>\n",
       "      <td>991.8</td>\n",
       "      <td>0.0</td>\n",
       "      <td>20.7</td>\n",
       "      <td>10.8</td>\n",
       "      <td>493</td>\n",
       "      <td>--</td>\n",
       "      <td>--</td>\n",
       "      <td>--</td>\n",
       "      <td>--</td>\n",
       "      <td>21.2</td>\n",
       "    </tr>\n",
       "    <tr>\n",
       "      <th>3</th>\n",
       "      <td>2023-09-15 14:53:34</td>\n",
       "      <td>21.3</td>\n",
       "      <td>14.9</td>\n",
       "      <td>50.5</td>\n",
       "      <td>991.7</td>\n",
       "      <td>178</td>\n",
       "      <td>991.8</td>\n",
       "      <td>0.0</td>\n",
       "      <td>20.7</td>\n",
       "      <td>10.6</td>\n",
       "      <td>496</td>\n",
       "      <td>--</td>\n",
       "      <td>--</td>\n",
       "      <td>--</td>\n",
       "      <td>--</td>\n",
       "      <td>21.2</td>\n",
       "    </tr>\n",
       "    <tr>\n",
       "      <th>4</th>\n",
       "      <td>2023-09-15 14:53:39</td>\n",
       "      <td>21.3</td>\n",
       "      <td>14.9</td>\n",
       "      <td>50.6</td>\n",
       "      <td>991.7</td>\n",
       "      <td>178</td>\n",
       "      <td>991.8</td>\n",
       "      <td>0.0</td>\n",
       "      <td>20.7</td>\n",
       "      <td>10.6</td>\n",
       "      <td>495</td>\n",
       "      <td>--</td>\n",
       "      <td>--</td>\n",
       "      <td>--</td>\n",
       "      <td>--</td>\n",
       "      <td>21.2</td>\n",
       "    </tr>\n",
       "  </tbody>\n",
       "</table>\n",
       "</div>"
      ],
      "text/plain": [
       "  FORMATTED DATE_TIME  Temperature  Wet Bulb Temp  Relative Humidity  \\\n",
       "0 2023-09-15 14:53:19         21.0           14.9               52.8   \n",
       "1 2023-09-15 14:53:24         21.1           14.9               52.5   \n",
       "2 2023-09-15 14:53:29         21.2           14.9               51.4   \n",
       "3 2023-09-15 14:53:34         21.3           14.9               50.5   \n",
       "4 2023-09-15 14:53:39         21.3           14.9               50.6   \n",
       "\n",
       "   Barometric Pressure  Altitude  Station Pressure  Wind Speed  Heat Index  \\\n",
       "0                992.0       176             992.0         0.0        20.5   \n",
       "1                992.2       173             992.3         1.2        20.4   \n",
       "2                991.7       178             991.8         0.0        20.7   \n",
       "3                991.7       178             991.8         0.0        20.7   \n",
       "4                991.7       178             991.8         0.0        20.7   \n",
       "\n",
       "   Dew Point  Density Altitude Crosswind Headwind Compass Magnetic Direction  \\\n",
       "0       11.0               487        --       --                         --   \n",
       "1       11.0               484        --       --                         --   \n",
       "2       10.8               493        --       --                         --   \n",
       "3       10.6               496        --       --                         --   \n",
       "4       10.6               495        --       --                         --   \n",
       "\n",
       "  Compass True Direction  Wind Chill  \n",
       "0                     --        21.0  \n",
       "1                     --        21.0  \n",
       "2                     --        21.2  \n",
       "3                     --        21.2  \n",
       "4                     --        21.2  "
      ]
     },
     "execution_count": 1,
     "metadata": {},
     "output_type": "execute_result"
    }
   ],
   "source": [
    "\"\"\" Read the data file. \"\"\"\n",
    "import pandas as pd\n",
    "\n",
    "# set the file name\n",
    "data_file = \"WEATHER_-_2414781_Sep_15_2023_2_56_14_PM.csv\"\n",
    "\n",
    "# read the data file\n",
    "kestrel_pd = pd.read_csv(data_file, header = 0, skiprows = [0,1,2,4], usecols=range(0,16), parse_dates=[0])\n",
    "\n",
    "# show part of the data frame\n",
    "kestrel_pd.head()"
   ]
  },
  {
   "cell_type": "markdown",
   "metadata": {},
   "source": [
    "# Exploratory data analysis\n",
    "\n",
    "Before attempting the height estimate, I want to just look at the data in the form of plots."
   ]
  },
  {
   "cell_type": "code",
   "execution_count": 2,
   "metadata": {},
   "outputs": [
    {
     "data": {
      "image/png": "[encoded data removed]",
      "text/plain": [
       "<Figure size 640x480 with 1 Axes>"
      ]
     },
     "metadata": {},
     "output_type": "display_data"
    },
    {
     "data": {
      "image/png": "[encoded data removed]",
      "text/plain": [
       "<Figure size 640x480 with 1 Axes>"
      ]
     },
     "metadata": {},
     "output_type": "display_data"
    }
   ],
   "source": [
    "import matplotlib.pyplot as plt\n",
    "kestrel_pd.plot(\"FORMATTED DATE_TIME\", \"Temperature\")\n",
    "plt.show()\n",
    "\n",
    "kestrel_pd.plot(\"FORMATTED DATE_TIME\", \"Station Pressure\")\n",
    "plt.show()"
   ]
  },
  {
   "cell_type": "markdown",
   "metadata": {},
   "source": [
    "It looks like I started recording around 2:53pm (9/15/2023) according to the plots, which seems about right; I ascended the stairwell in about three minutes.  Pressure steadily (approximately linearly) decreased as I ascended, as expected.  The temperature rose by about 0.7 C, which makes sense given that the air in the stairwell probably isn't well mixed and that warm air probably rises to the top of the stairwell."
   ]
  },
  {
   "cell_type": "code",
   "execution_count": 3,
   "metadata": {},
   "outputs": [
    {
     "data": {
      "text/html": [
       "<div>\n",
       "<style scoped>\n",
       "    .dataframe tbody tr th:only-of-type {\n",
       "        vertical-align: middle;\n",
       "    }\n",
       "\n",
       "    .dataframe tbody tr th {\n",
       "        vertical-align: top;\n",
       "    }\n",
       "\n",
       "    .dataframe thead th {\n",
       "        text-align: right;\n",
       "    }\n",
       "</style>\n",
       "<table border=\"1\" class=\"dataframe\">\n",
       "  <thead>\n",
       "    <tr style=\"text-align: right;\">\n",
       "      <th></th>\n",
       "      <th>Temperature</th>\n",
       "      <th>Wet Bulb Temp</th>\n",
       "      <th>Relative Humidity</th>\n",
       "      <th>Barometric Pressure</th>\n",
       "      <th>Altitude</th>\n",
       "      <th>Station Pressure</th>\n",
       "      <th>Wind Speed</th>\n",
       "      <th>Heat Index</th>\n",
       "      <th>Dew Point</th>\n",
       "      <th>Density Altitude</th>\n",
       "      <th>Wind Chill</th>\n",
       "    </tr>\n",
       "  </thead>\n",
       "  <tbody>\n",
       "    <tr>\n",
       "      <th>count</th>\n",
       "      <td>36.000000</td>\n",
       "      <td>36.000000</td>\n",
       "      <td>36.000000</td>\n",
       "      <td>36.000000</td>\n",
       "      <td>36.000000</td>\n",
       "      <td>36.000000</td>\n",
       "      <td>36.000000</td>\n",
       "      <td>36.000000</td>\n",
       "      <td>36.000000</td>\n",
       "      <td>36.000000</td>\n",
       "      <td>36.000000</td>\n",
       "    </tr>\n",
       "    <tr>\n",
       "      <th>mean</th>\n",
       "      <td>21.361111</td>\n",
       "      <td>15.611111</td>\n",
       "      <td>55.605556</td>\n",
       "      <td>990.625000</td>\n",
       "      <td>187.527778</td>\n",
       "      <td>990.669444</td>\n",
       "      <td>0.519444</td>\n",
       "      <td>21.052778</td>\n",
       "      <td>12.047222</td>\n",
       "      <td>515.638889</td>\n",
       "      <td>21.330556</td>\n",
       "    </tr>\n",
       "    <tr>\n",
       "      <th>std</th>\n",
       "      <td>0.187125</td>\n",
       "      <td>0.888266</td>\n",
       "      <td>6.532116</td>\n",
       "      <td>0.911945</td>\n",
       "      <td>7.926398</td>\n",
       "      <td>0.920813</td>\n",
       "      <td>0.723017</td>\n",
       "      <td>0.311206</td>\n",
       "      <td>1.674257</td>\n",
       "      <td>15.840550</td>\n",
       "      <td>0.186424</td>\n",
       "    </tr>\n",
       "    <tr>\n",
       "      <th>min</th>\n",
       "      <td>21.000000</td>\n",
       "      <td>14.800000</td>\n",
       "      <td>48.500000</td>\n",
       "      <td>989.200000</td>\n",
       "      <td>173.000000</td>\n",
       "      <td>989.200000</td>\n",
       "      <td>0.000000</td>\n",
       "      <td>20.400000</td>\n",
       "      <td>10.300000</td>\n",
       "      <td>484.000000</td>\n",
       "      <td>21.000000</td>\n",
       "    </tr>\n",
       "    <tr>\n",
       "      <th>25%</th>\n",
       "      <td>21.200000</td>\n",
       "      <td>14.900000</td>\n",
       "      <td>50.475000</td>\n",
       "      <td>989.850000</td>\n",
       "      <td>180.000000</td>\n",
       "      <td>989.850000</td>\n",
       "      <td>0.000000</td>\n",
       "      <td>20.800000</td>\n",
       "      <td>10.775000</td>\n",
       "      <td>497.750000</td>\n",
       "      <td>21.200000</td>\n",
       "    </tr>\n",
       "    <tr>\n",
       "      <th>50%</th>\n",
       "      <td>21.400000</td>\n",
       "      <td>15.250000</td>\n",
       "      <td>53.500000</td>\n",
       "      <td>990.700000</td>\n",
       "      <td>187.500000</td>\n",
       "      <td>990.700000</td>\n",
       "      <td>0.000000</td>\n",
       "      <td>21.100000</td>\n",
       "      <td>11.550000</td>\n",
       "      <td>521.000000</td>\n",
       "      <td>21.300000</td>\n",
       "    </tr>\n",
       "    <tr>\n",
       "      <th>75%</th>\n",
       "      <td>21.500000</td>\n",
       "      <td>16.200000</td>\n",
       "      <td>59.700000</td>\n",
       "      <td>991.500000</td>\n",
       "      <td>194.250000</td>\n",
       "      <td>991.500000</td>\n",
       "      <td>1.300000</td>\n",
       "      <td>21.200000</td>\n",
       "      <td>13.200000</td>\n",
       "      <td>528.000000</td>\n",
       "      <td>21.500000</td>\n",
       "    </tr>\n",
       "    <tr>\n",
       "      <th>max</th>\n",
       "      <td>21.700000</td>\n",
       "      <td>17.700000</td>\n",
       "      <td>70.500000</td>\n",
       "      <td>992.200000</td>\n",
       "      <td>200.000000</td>\n",
       "      <td>992.300000</td>\n",
       "      <td>2.300000</td>\n",
       "      <td>21.700000</td>\n",
       "      <td>15.800000</td>\n",
       "      <td>538.000000</td>\n",
       "      <td>21.700000</td>\n",
       "    </tr>\n",
       "  </tbody>\n",
       "</table>\n",
       "</div>"
      ],
      "text/plain": [
       "       Temperature  Wet Bulb Temp  Relative Humidity  Barometric Pressure  \\\n",
       "count    36.000000      36.000000          36.000000            36.000000   \n",
       "mean     21.361111      15.611111          55.605556           990.625000   \n",
       "std       0.187125       0.888266           6.532116             0.911945   \n",
       "min      21.000000      14.800000          48.500000           989.200000   \n",
       "25%      21.200000      14.900000          50.475000           989.850000   \n",
       "50%      21.400000      15.250000          53.500000           990.700000   \n",
       "75%      21.500000      16.200000          59.700000           991.500000   \n",
       "max      21.700000      17.700000          70.500000           992.200000   \n",
       "\n",
       "         Altitude  Station Pressure  Wind Speed  Heat Index  Dew Point  \\\n",
       "count   36.000000         36.000000   36.000000   36.000000  36.000000   \n",
       "mean   187.527778        990.669444    0.519444   21.052778  12.047222   \n",
       "std      7.926398          0.920813    0.723017    0.311206   1.674257   \n",
       "min    173.000000        989.200000    0.000000   20.400000  10.300000   \n",
       "25%    180.000000        989.850000    0.000000   20.800000  10.775000   \n",
       "50%    187.500000        990.700000    0.000000   21.100000  11.550000   \n",
       "75%    194.250000        991.500000    1.300000   21.200000  13.200000   \n",
       "max    200.000000        992.300000    2.300000   21.700000  15.800000   \n",
       "\n",
       "       Density Altitude  Wind Chill  \n",
       "count         36.000000   36.000000  \n",
       "mean         515.638889   21.330556  \n",
       "std           15.840550    0.186424  \n",
       "min          484.000000   21.000000  \n",
       "25%          497.750000   21.200000  \n",
       "50%          521.000000   21.300000  \n",
       "75%          528.000000   21.500000  \n",
       "max          538.000000   21.700000  "
      ]
     },
     "execution_count": 3,
     "metadata": {},
     "output_type": "execute_result"
    }
   ],
   "source": [
    "\"\"\" Show statistics of the various columns. \"\"\"\n",
    "kestrel_pd.describe()"
   ]
  },
  {
   "cell_type": "markdown",
   "metadata": {},
   "source": [
    "In looking at the summary, it occurs to me that I could estimate the building height simply by using the min and max pressure recorded.  From a calculus standpoint, this would be reasonable, considering that the plot above shows that the pressure change is approximately linear; the finite difference approximation is valid.  I'll try that before doing the numerical integration."
   ]
  },
  {
   "cell_type": "code",
   "execution_count": 4,
   "metadata": {},
   "outputs": [
    {
     "name": "stdout",
     "output_type": "stream",
     "text": [
      "The building height is 26.97 m, or 88.49 ft\n"
     ]
    }
   ],
   "source": [
    "\"\"\" Estimate building height using the min/max pressure \"\"\"\n",
    "# set constants\n",
    "Rd = 287 # J/kg/K\n",
    "g = 9.806 # m/s/s\n",
    "T = kestrel_pd['Temperature'].mean() # C\n",
    "P = kestrel_pd['Station Pressure'].mean() # hPa\n",
    "Pmin = kestrel_pd['Station Pressure'].min() # hPa\n",
    "Pmax = kestrel_pd['Station Pressure'].max() # hPa\n",
    "\n",
    "# convert to MKS\n",
    "T = T + 273.15\n",
    "P = P * 100\n",
    "Pmin = Pmin * 100\n",
    "Pmax = Pmax * 100\n",
    "\n",
    "# calculate the change in height\n",
    "dP = Pmin - Pmax\n",
    "dz = -(Rd*T/g)*(dP/P)\n",
    "\n",
    "m_to_ft = 3.2808399 # ft/m\n",
    "\n",
    "print(f\"The building height is {dz:2.2f} m, or {dz*m_to_ft:2.2f} ft\")"
   ]
  },
  {
   "cell_type": "markdown",
   "metadata": {},
   "source": [
    "# Estimation by numerical integration\n",
    "\n",
    "The above shows that, by a simple method, I estimate the building height at about 88.5 ft, which seems reasonable; the typical height between floors in US buildings is somewhere between 10-15 ft.  This seems to imply that floors have slightly more than 12 ft between them.\n",
    "\n",
    "Now I'm going to estimate the building height by examining the changes in height between measurements.\n",
    "\n",
    "I'll use the `pandas.diff()` method to do this.  Note that pandas sets the first dP value to NaN, so I need to decide how to set it; I'll simply set it to zero."
   ]
  },
  {
   "cell_type": "code",
   "execution_count": 5,
   "metadata": {},
   "outputs": [
    {
     "data": {
      "text/plain": [
       "0     0.0\n",
       "1    30.0\n",
       "2   -50.0\n",
       "3     0.0\n",
       "4     0.0\n",
       "Name: dP, dtype: float64"
      ]
     },
     "execution_count": 5,
     "metadata": {},
     "output_type": "execute_result"
    }
   ],
   "source": [
    "\"\"\" Estimate dp \"\"\"\n",
    "\n",
    "# calculate the change in pressure between measurements\n",
    "kestrel_pd['dP'] = kestrel_pd['Station Pressure'].diff()*100 # Pa\n",
    "\n",
    "# set the first value to zero (instead of NaN)\n",
    "kestrel_pd.loc[0,'dP'] = 0\n",
    "\n",
    "# show the first part of the new dP column\n",
    "kestrel_pd['dP'].head()"
   ]
  },
  {
   "cell_type": "markdown",
   "metadata": {},
   "source": [
    "We also need to average station pressure between consecutive values in order to be consistent with the finite difference.  I'll use the `pandas.shift` method to accomplish this.  We also need to deal with a NaN value in the first row."
   ]
  },
  {
   "cell_type": "code",
   "execution_count": 6,
   "metadata": {},
   "outputs": [
    {
     "data": {
      "text/plain": [
       "0    99215.0\n",
       "1    99215.0\n",
       "2    99205.0\n",
       "3    99180.0\n",
       "4    99180.0\n",
       "Name: Pavg, dtype: float64"
      ]
     },
     "execution_count": 6,
     "metadata": {},
     "output_type": "execute_result"
    }
   ],
   "source": [
    "# calculate the average pressure between adjacent measurements\n",
    "kestrel_pd['Pavg'] = 0.5*(kestrel_pd['Station Pressure'].shift(0) + kestrel_pd['Station Pressure'].shift(1))*100\n",
    "kestrel_pd.loc[0,'Pavg'] = kestrel_pd.loc[1,'Pavg'] # set the first value to the first actual value\n",
    "kestrel_pd['Pavg'].head()"
   ]
  },
  {
   "cell_type": "code",
   "execution_count": 7,
   "metadata": {},
   "outputs": [
    {
     "data": {
      "text/plain": [
       "0   -0.000000\n",
       "1   -2.604056\n",
       "2    4.342007\n",
       "3   -0.000000\n",
       "4   -0.000000\n",
       "Name: dz, dtype: float64"
      ]
     },
     "execution_count": 7,
     "metadata": {},
     "output_type": "execute_result"
    }
   ],
   "source": [
    "\"\"\" Calculate the changes in height. \"\"\"\n",
    "# calculate using the hypsometric relationship, also converting temperature to K on the fly\n",
    "kestrel_pd['dz'] = -(Rd*(kestrel_pd['Temperature'] + 273.15)/g)*(kestrel_pd['dP']/kestrel_pd['Pavg']) # m\n",
    "# show the first few rows of height change\n",
    "kestrel_pd['dz'].head()"
   ]
  },
  {
   "cell_type": "code",
   "execution_count": 8,
   "metadata": {},
   "outputs": [
    {
     "data": {
      "image/png": "[encoded data removed]",
      "text/plain": [
       "<Figure size 640x480 with 1 Axes>"
      ]
     },
     "metadata": {},
     "output_type": "display_data"
    }
   ],
   "source": [
    "\"\"\" Estimate the relative height of each measurement \"\"\"\n",
    "\n",
    "# estimated height is the cumulative sum of height changes\n",
    "kestrel_pd['z'] = kestrel_pd['dz'].cumsum()\n",
    "\n",
    "# plot height as a function of time\n",
    "fig, ax = plt.subplots()\n",
    "kestrel_pd.plot('FORMATTED DATE_TIME', 'z', ax = ax)\n",
    "ax.set_ylabel(\"Height [m]\")\n",
    "plt.show()"
   ]
  },
  {
   "cell_type": "markdown",
   "metadata": {},
   "source": [
    "The above plot shows that my estimated height, relative to the ground floor, steadily increased with time, which is consistent with my walking up the stairwell during that time.  The maximum height is estimated to be just under 25 m, whereas the height from the simple estimation method is nearly 27 m.  So there is clearly error in one or the other estimation methods.  Regardless, the two methods are roughly consistent."
   ]
  }
 ],
 "metadata": {
  "kernelspec": {
   "display_name": "climate_py39",
   "language": "python",
   "name": "python3"
  },
  "language_info": {
   "codemirror_mode": {
    "name": "ipython",
    "version": 3
   },
   "file_extension": ".py",
   "mimetype": "text/x-python",
   "name": "python",
   "nbconvert_exporter": "python",
   "pygments_lexer": "ipython3",
   "version": "3.11.4"
  },
  "orig_nbformat": 4
 },
 "nbformat": 4,
 "nbformat_minor": 2
}
