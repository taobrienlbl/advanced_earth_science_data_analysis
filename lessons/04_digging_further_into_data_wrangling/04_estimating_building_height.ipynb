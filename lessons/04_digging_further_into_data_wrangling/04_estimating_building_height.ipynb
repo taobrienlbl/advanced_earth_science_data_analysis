{
 "cells": [
  {
   "cell_type": "markdown",
   "metadata": {},
   "source": [
    "<a target=\"_blank\" href=\"https://colab.research.google.com/github/taobrienlbl/advanced_earth_science_data_analysis/blob/spring_2023_iub/lessons/04_digging_further_into_data_wrangling/04_estimating_building_height.ipynb\">\n",
    "  <img src=\"https://colab.research.google.com/assets/colab-badge.svg\" alt=\"Open In Colab\"/>\n",
    "</a>\n",
    "\n",
    "This exercise aims to build on your knowledge of the big-four data science libraries to use Kestrel atmospheric measurement devices to estimate the height difference between the ground floor and sixth floor of the Geology building.\n",
    "\n",
    "# Background\n",
    "\n",
    "Air pressure monotonically decreases with height in the atmosphere.  This is simply due to the fact that *air pressure is a measure of the weight of everything above*.  So higher up in the atmosphere there is less atmosphere (weight) above, and pressure decreases.\n",
    "\n",
    "One of the basic principles of fluid dynamics is that a *pressure gradient*--a change in pressure over some distance--exerts a net force on the fluid that, in the absence of other forces, would cause the fluid to move.  So why then does the atmosphere not flow away to space in response to this pressure gradient?\n",
    "\n",
    "To a very good approximation, the atmosphere is in *hydrostatic balance*, meaning that the vertical pressure gradient is balanced by the force of gravity on the air; gravity effectively negates the pressure gradient force.  This leads to one of the most essential equations in atmospheric science:\n",
    "\n",
    "$$ \\frac{\\partial p}{\\partial z} = -\\rho g$$\n",
    "\n",
    "where $p$ is the atmospheric pressure, $z$ is height away from the surface, $\\rho$ is air density, and $g$ is the gravitational acceleration (we'll use $g \\approx 9.806~\\text{m s}^{-2}$ here).\n",
    "\n",
    "If we combine this with the ideal gas law (written in a form that is convenient for atmospheric gasses, where $R_d \\approx 287~\\text{J kg}^{-1}\\text{K}^{-1}$ represents a constant for air with the composition of Earth's atmosphere), we get a differential equation for pressure.\n",
    "\n",
    "$$\\text{Ideal gas law: }~p = \\rho R_d T \\to $$\n",
    "\n",
    "$$ \\frac{\\partial p}{\\partial z} = - \\frac{p g}{R_d T} $$\n",
    "\n",
    "We can approximate the derivatives in this equation using finite differences: $\\partial p/\\partial z \\to \\Delta p / \\Delta z$, where $\\Delta$ represents a (presumably small) difference between two pressure or height measurements.  We can then use this to solve for the change in height as a function of changes in pressure:\n",
    "\n",
    "$$ \\Delta z \\approx - \\frac{R_d T}{g} \\frac{\\Delta p}{p}$$\n",
    "\n",
    "# Estimating height\n",
    "\n",
    "Now imagine that we have a device that records pressure and temperature every second or so.  If you take that device and walk up a set of stairs, the recorded pressure will drop a bit for every second that you're ascending.  A pair of measurements taken at consecutive times can be used to estimate $\\Delta p$, and the average of the two measurements can be used to estimate $p$ and $T$ over tha same time frame.  These values can be plugged in to the above formula to estimate the change in height between the two measurements.  The sum of all the changes in height then gives an estimate of the total change in height; we will have numerically integrated the differential equation that comes from combining hydrostatic balance and the ideal gas law.\n",
    "\n",
    "## Instructions\n",
    "\n",
    "1. form groups of two or three\n",
    "1. acquaint yourself with the Kestrel measuring devices, and pair it to at least one of your phones using [Kestrel Link](https://kestrelinstruments.com/link-connectivity)\n",
    "1. ensure that you can record measurements and export them to csv\n",
    "1. take the kestrel device down to the ground floor of the Geology building; go to the loop\n",
    "1. start recording\n",
    "1. either walk up the stairwell, or take the elevator, up to the 7th floor (you can only access this floor from the western stairwell)\n",
    "1. end recording\n",
    "1. export the data to a CSV file and add it to your course git folder (into a folder for lesson 04)\n",
    "1. estimate the difference in height between the two floors using the method above (*hint*: you should use `pandas`, and you should be able to make a new column for the calculation of $\\Delta p$ and $\\Delta z$ for each measurement, and then use the `.sum()` method)"
   ]
  },
  {
   "cell_type": "markdown",
   "metadata": {},
   "source": [
    "*Delete this and insert some initial observations / thoughts for documenting the data analysis process using Markdown*"
   ]
  },
  {
   "cell_type": "code",
   "execution_count": null,
   "metadata": {},
   "outputs": [],
   "source": [
    "# delete this and start your data analysis code here"
   ]
  }
 ],
 "metadata": {
  "kernelspec": {
   "display_name": "climate_py39",
   "language": "python",
   "name": "python3"
  },
  "language_info": {
   "codemirror_mode": {
    "name": "ipython",
    "version": 3
   },
   "file_extension": ".py",
   "mimetype": "text/x-python",
   "name": "python",
   "nbconvert_exporter": "python",
   "pygments_lexer": "ipython3",
   "version": "3.9.16"
  },
  "orig_nbformat": 4
 },
 "nbformat": 4,
 "nbformat_minor": 2
}
