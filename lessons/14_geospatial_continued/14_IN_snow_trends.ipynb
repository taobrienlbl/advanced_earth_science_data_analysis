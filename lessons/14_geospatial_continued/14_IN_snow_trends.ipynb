{
 "cells": [
  {
   "cell_type": "markdown",
   "metadata": {},
   "source": [
    "# Exercise 14: Trends in IN Snow\n",
    "\n",
    "In this exercise, we will build on geospatial skills from last week to assemble a dataset of snow observations in Indiana from a global dataset of meteorological observations.  The aim will be to ask whether there are trends in snow in IN.  This exercise will involve automatically downloading data from an external source.\n",
    "\n",
    "The source dataset is: https://www.ncei.noaa.gov/products/land-based-station/global-historical-climatology-network-daily"
   ]
  },
  {
   "cell_type": "code",
   "execution_count": null,
   "metadata": {},
   "outputs": [],
   "source": [
    "\"\"\" Import libraries. \"\"\"\n",
    "import matplotlib.pyplot as plt\n",
    "import numpy as np\n",
    "import cartopy.crs\n",
    "import geopandas as gpd\n",
    "import pandas as pd\n",
    "from tqdm.notebook import tqdm # for a progress bar; you'll need to install tqdm and ipywidgets\n",
    "import scipy\n",
    "import datetime as dt"
   ]
  },
  {
   "cell_type": "code",
   "execution_count": null,
   "metadata": {},
   "outputs": [],
   "source": [
    "\"\"\" Load the inventory file. \"\"\"\n",
    "\n",
    "# set the inventory file\n",
    "\n",
    "# load the inventory file into a pandas dataframe"
   ]
  },
  {
   "cell_type": "code",
   "execution_count": null,
   "metadata": {},
   "outputs": [],
   "source": [
    "\"\"\" Convert the inventory dataframe to a geopandas dataframe. \"\"\""
   ]
  },
  {
   "cell_type": "code",
   "execution_count": null,
   "metadata": {},
   "outputs": [],
   "source": [
    "\"\"\" Find stations that have at least 50 years of data. \"\"\"\n",
    "\n",
    "# find stations that have at least 50 years of data\n",
    "\n",
    "\n",
    "# plot the stations that have at least 50 years of SNOW data\n"
   ]
  },
  {
   "cell_type": "code",
   "execution_count": null,
   "metadata": {},
   "outputs": [],
   "source": [
    "\"\"\" Load the state boundary shapefile. \"\"\"\n",
    "\n",
    "# set the path to the shapefile\n",
    "\n",
    "# load the state boundary shapefile\n",
    "\n",
    "# plot the state boundary shapefile"
   ]
  },
  {
   "cell_type": "code",
   "execution_count": null,
   "metadata": {},
   "outputs": [],
   "source": [
    "\"\"\" Extract the IN row. \"\"\"\n",
    "# extract the IN row\n",
    "\n",
    "# plot the IN boundary"
   ]
  },
  {
   "cell_type": "code",
   "execution_count": null,
   "metadata": {},
   "outputs": [],
   "source": [
    "\"\"\" Use the IN boundary to clip the snow. \"\"\"\n",
    "\n",
    "# convert the in boundary to the same projection as the snow\n",
    "\n",
    "# clip the snow to the IN boundary\n",
    "\n",
    "# isolate this to just the SNOW variable\n",
    "\n",
    "# plot the clipped snow and the state boundary\n",
    "\n"
   ]
  },
  {
   "cell_type": "code",
   "execution_count": null,
   "metadata": {},
   "outputs": [],
   "source": [
    "\"\"\" Set the URL template for the GHCN-Daily data. \"\"\"\n",
    "\n",
    "# create a function to load the GHCN-Daily data for a station\n",
    "\n",
    "\n",
    "# test on the first station\n"
   ]
  },
  {
   "cell_type": "code",
   "execution_count": null,
   "metadata": {},
   "outputs": [],
   "source": [
    "\"\"\" Download data for all the stations. \"\"\"\n"
   ]
  },
  {
   "cell_type": "code",
   "execution_count": null,
   "metadata": {},
   "outputs": [],
   "source": [
    "\"\"\" Combine the data into a single dataframe. \"\"\"\n",
    "# combine the data into a single dataframe\n",
    "\n",
    "# save the data to a CSV file with today's date"
   ]
  },
  {
   "cell_type": "code",
   "execution_count": null,
   "metadata": {},
   "outputs": [],
   "source": [
    "\"\"\" Convert the data to a geopandas dataframe. \"\"\"\n",
    "\n",
    "# parse the date column\n",
    "\n",
    "# convert the data to a geopandas dataframe"
   ]
  },
  {
   "cell_type": "code",
   "execution_count": null,
   "metadata": {},
   "outputs": [],
   "source": [
    "\"\"\" Pick a date and plot the snow \"\"\"\n",
    "# pick a date\n",
    "\n",
    "\n",
    "# plot the snow"
   ]
  },
  {
   "cell_type": "markdown",
   "metadata": {},
   "source": [
    "## Breakpoint\n",
    "\n",
    "If you want to spend class time on your final project, here would be a good place to end the exercise.  Otherwise, I encourage you to keep going."
   ]
  },
  {
   "cell_type": "code",
   "execution_count": null,
   "metadata": {},
   "outputs": [],
   "source": [
    "\"\"\" Calculate the total snow each year.\"\"\"\n",
    "# sum by year"
   ]
  },
  {
   "cell_type": "code",
   "execution_count": null,
   "metadata": {},
   "outputs": [],
   "source": [
    "\"\"\" Calculate the trend in snow. \"\"\"\n",
    "\n",
    "# calculate the trend in snow\n",
    "\n",
    "# get the lat/lon for each station from the inventory\n",
    "\n",
    "# convert the dataframe to a geodataframe\n",
    "\n",
    "# rename the columns\n"
   ]
  },
  {
   "cell_type": "code",
   "execution_count": null,
   "metadata": {},
   "outputs": [],
   "source": [
    "\"\"\" Plot the trend in snow. \"\"\"\n",
    "\n",
    "\n",
    "# plot the trends, using the trend magnitude as the color and marker size\n",
    "\n",
    "# plot the state boundary\n",
    "\n",
    "\n"
   ]
  },
  {
   "cell_type": "code",
   "execution_count": null,
   "metadata": {},
   "outputs": [],
   "source": []
  }
 ],
 "metadata": {
  "kernelspec": {
   "display_name": "easg690",
   "language": "python",
   "name": "python3"
  },
  "language_info": {
   "codemirror_mode": {
    "name": "ipython",
    "version": 3
   },
   "file_extension": ".py",
   "mimetype": "text/x-python",
   "name": "python",
   "nbconvert_exporter": "python",
   "pygments_lexer": "ipython3",
   "version": "3.11.6"
  }
 },
 "nbformat": 4,
 "nbformat_minor": 2
}
