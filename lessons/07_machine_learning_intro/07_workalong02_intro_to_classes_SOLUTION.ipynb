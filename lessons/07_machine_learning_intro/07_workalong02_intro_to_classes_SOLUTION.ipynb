{
 "cells": [
  {
   "cell_type": "markdown",
   "metadata": {},
   "source": [
    "<a target=\"_blank\" href=\"https://colab.research.google.com/github/taobrienlbl/advanced_earth_science_data_analysis/blob/spring_2023_iub/lessons/07_machine_learning_intro/07_workalong02_intro_to_classes_SOLUTION.ipynb\">\n",
    "  <img src=\"https://colab.research.google.com/assets/colab-badge.svg\" alt=\"Open In Colab\"/>\n",
    "</a>\n",
    "\n",
    "# Intro to *classes* in Python\n",
    "\n",
    "This notebook walks through some demonstrations of classes; it is accompanied by a bit of lecture."
   ]
  },
  {
   "cell_type": "code",
   "execution_count": 1,
   "metadata": {},
   "outputs": [],
   "source": [
    "\"\"\" Define a class called Animal. \"\"\"\n",
    "\n",
    "class Animal:\n",
    "\n",
    "    def __init__(self, limbs = 4, eyes = 2, tail = 1):\n",
    "        \"\"\" This is the constructor: it is called when a new object of type 'Animal' is created \"\"\"\n",
    "        self.limbs = limbs\n",
    "        self.eyes = eyes\n",
    "        self.tail = tail\n",
    "\n",
    "    def speak(self):\n",
    "        \"\"\" This is a method: it is a function that is associated with an object. \"\"\"\n",
    "        print(\"Hello, I am an animal.\")\n",
    "\n",
    "    def describe(self):\n",
    "        \"\"\" This is another method. \"\"\"\n",
    "        print(\"I have {} limbs, {} eyes, and {} tail(s).\".format(self.limbs, self.eyes, self.tail))"
   ]
  },
  {
   "cell_type": "code",
   "execution_count": 2,
   "metadata": {},
   "outputs": [],
   "source": [
    "\"\"\" Create two animal objects.\"\"\"\n",
    "\n",
    "animal1 = Animal()\n",
    "\n",
    "animal2 = Animal(limbs = 2, eyes = 2, tail = 0)"
   ]
  },
  {
   "cell_type": "code",
   "execution_count": 3,
   "metadata": {},
   "outputs": [
    {
     "name": "stdout",
     "output_type": "stream",
     "text": [
      "Animal 1:\n",
      "Hello, I am an animal.\n",
      "I have 4 limbs, 2 eyes, and 1 tail(s).\n",
      "\n",
      "Animal 2:\n",
      "Hello, I am an animal.\n",
      "I have 2 limbs, 2 eyes, and 0 tail(s).\n"
     ]
    }
   ],
   "source": [
    "\"\"\" Call the methods of the animal objects. \"\"\"\n",
    "\n",
    "print(\"Animal 1:\")\n",
    "animal1.speak()\n",
    "animal1.describe()\n",
    "print()\n",
    "\n",
    "print(\"Animal 2:\")\n",
    "animal2.speak()\n",
    "animal2.describe()"
   ]
  },
  {
   "cell_type": "code",
   "execution_count": 4,
   "metadata": {},
   "outputs": [
    {
     "data": {
      "text/plain": [
       "Dog(name = 'Gabby', breed = 'corgi')"
      ]
     },
     "execution_count": 4,
     "metadata": {},
     "output_type": "execute_result"
    }
   ],
   "source": [
    "\"\"\" Create a new class called Dog that inherits from Animal. \"\"\"\n",
    "\n",
    "class Dog(Animal):\n",
    "\n",
    "    def __init__(self, name, breed):\n",
    "        \"\"\" This is the constructor: it is called when a new object of type 'Dog' is created \"\"\"\n",
    "        # initialize the parent class, but force the number of limbs\n",
    "        super().__init__(limbs = 4, eyes = 2, tail = 1)\n",
    "        self.name = name\n",
    "        self.breed = breed\n",
    "\n",
    "    def speak(self):\n",
    "        \"\"\" This is a method: it is a function that is associated with an object. \"\"\"\n",
    "        print(f\"{self.name}: Woof!\")\n",
    "\n",
    "    def __repr__(self):\n",
    "        \"\"\" This is a special method that is called when the object is printed. \"\"\"\n",
    "        return f\"Dog(name = '{self.name}', breed = '{self.breed}')\"\n",
    "\n",
    "    # why do I not have a describe method here? What happens if I try to call it?\n",
    "\n",
    "# create a dog\n",
    "dog1 = Dog(\"Gabby\", \"corgi\")\n",
    "dog1"
   ]
  },
  {
   "cell_type": "code",
   "execution_count": 5,
   "metadata": {},
   "outputs": [
    {
     "name": "stdout",
     "output_type": "stream",
     "text": [
      "Gabby: Woof!\n",
      "I have 4 limbs, 2 eyes, and 1 tail(s).\n"
     ]
    }
   ],
   "source": [
    "dog1.speak()\n",
    "dog1.describe()"
   ]
  },
  {
   "cell_type": "code",
   "execution_count": 6,
   "metadata": {},
   "outputs": [],
   "source": [
    "\"\"\" Now create a new quadratic class that has a 'gradient' method. \"\"\"\n",
    "\n",
    "class Quadratic:\n",
    "\n",
    "    def __init__(self, a, b, c):\n",
    "        \"\"\" This is the constructor: it is called when a new object of type 'Quadratic' is created \"\"\"\n",
    "        self.a = a\n",
    "        self.b = b\n",
    "        self.c = c\n",
    "\n",
    "    def gradient(self, x):\n",
    "        \"\"\" Calculate the gradient of the quadratic at a given point. \"\"\"\n",
    "        return 2 * self.a * x + self.b\n",
    "\n",
    "    def evaluate(self, x):\n",
    "        \"\"\" This method evaluates the polynomial \"\"\"\n",
    "        return self.a * x**2 + self.b * x + self.c\n",
    "\n",
    "    def __repr__(self):\n",
    "        \"\"\" Print the quadratic \"\"\"\n",
    "        return f\"{self.a}*x**2 + {self.b}*x + {self.c}\"\n",
    "\n",
    "    def __eval__(self, x):\n",
    "        \"\"\" Evaluate the quadratic \"\"\"\n",
    "        return self.evaluate(x)"
   ]
  },
  {
   "cell_type": "code",
   "execution_count": 7,
   "metadata": {},
   "outputs": [
    {
     "data": {
      "text/plain": [
       "0*x**2 + 2*x + 3"
      ]
     },
     "execution_count": 7,
     "metadata": {},
     "output_type": "execute_result"
    }
   ],
   "source": [
    "\"\"\" Test the quadratic class.\"\"\"\n",
    "f1 = Quadratic(0, 2, 3)\n",
    "\n",
    "f1"
   ]
  },
  {
   "cell_type": "code",
   "execution_count": 8,
   "metadata": {},
   "outputs": [
    {
     "data": {
      "text/plain": [
       "2"
      ]
     },
     "execution_count": 8,
     "metadata": {},
     "output_type": "execute_result"
    }
   ],
   "source": [
    "f1.gradient(1) # should be 2 at any point"
   ]
  },
  {
   "cell_type": "code",
   "execution_count": 9,
   "metadata": {},
   "outputs": [
    {
     "data": {
      "text/plain": [
       "3"
      ]
     },
     "execution_count": 9,
     "metadata": {},
     "output_type": "execute_result"
    }
   ],
   "source": [
    "f1.evaluate(0) # should be 3\n"
   ]
  }
 ],
 "metadata": {
  "kernelspec": {
   "display_name": "easg690",
   "language": "python",
   "name": "python3"
  },
  "language_info": {
   "codemirror_mode": {
    "name": "ipython",
    "version": 3
   },
   "file_extension": ".py",
   "mimetype": "text/x-python",
   "name": "python",
   "nbconvert_exporter": "python",
   "pygments_lexer": "ipython3",
   "version": "3.10.12"
  }
 },
 "nbformat": 4,
 "nbformat_minor": 2
}
