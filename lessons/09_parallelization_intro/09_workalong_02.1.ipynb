{
 "cells": [
  {
   "cell_type": "markdown",
   "metadata": {},
   "source": [
    "# Lesson 09 - Workalong 2, Step 1\n",
    "This notebook develops and tests the code for a function that generates a plot of some interesting weather."
   ]
  },
  {
   "cell_type": "code",
   "execution_count": null,
   "metadata": {},
   "outputs": [],
   "source": [
    "# import libraries\n",
    "import matplotlib.pyplot as plt\n",
    "import xarray as xr\n",
    "import pandas as pd\n",
    "import cartopy\n",
    "import cmocean\n",
    "import os"
   ]
  },
  {
   "cell_type": "code",
   "execution_count": null,
   "metadata": {},
   "outputs": [],
   "source": [
    "# set the path to the input data file\n",
    "input_file = \"/N/project/obrienta_startup/datasets/ERA5/ds633.0/e5.oper.an.sfc/202106/e5.oper.an.sfc.128_136_tcw.ll025sc.2021060100_2021063023.nc\"\n",
    "\n",
    "# set the directory where we'll save the images\n",
    "\n",
    "# set the timestep to plot\n",
    "\n",
    "# make sure the output directory exists\n",
    "\n",
    "# load the data file"
   ]
  },
  {
   "cell_type": "code",
   "execution_count": null,
   "metadata": {},
   "outputs": [],
   "source": [
    "# get the variable at the requested timestep\n",
    "\n",
    "# plot the variable on an orthographic projection centered on\n",
    "# Bloomington, IN\n",
    "\n",
    "\n",
    "# plot the data\n",
    "\n",
    "\n",
    "# get the time of the timestep\n",
    "\n",
    "# convert it to a datetime object\n",
    "\n",
    "# add a title with a nicely formatted date\n",
    "\n",
    "# add coastlines\n",
    "\n",
    "# save the plot"
   ]
  },
  {
   "cell_type": "code",
   "execution_count": null,
   "metadata": {},
   "outputs": [],
   "source": [
    "\"\"\" Make a function to plot and save the data at a given timestep. \"\"\"\n",
    "\n",
    "def generate_frame(\n",
    "        i : int,\n",
    "        input_file = \"/N/project/obrienta_startup/datasets/ERA5/ds633.0/e5.oper.an.sfc/202106/e5.oper.an.sfc.128_136_tcw.ll025sc.2021060100_2021063023.nc\",\n",
    "        output_dir = \"./animation_frames/\"):\n",
    "\n",
    "        # copy the code from above here; have this function return the output file name\n",
    "        pass\n",
    "\n"
   ]
  },
  {
   "cell_type": "code",
   "execution_count": null,
   "metadata": {},
   "outputs": [],
   "source": [
    "\"\"\" Test the function. \"\"\"\n",
    "\n",
    "# set the timestep to plot (select a new timestep)\n",
    "\n",
    "# generate the plot"
   ]
  }
 ],
 "metadata": {
  "kernelspec": {
   "display_name": "easg690",
   "language": "python",
   "name": "python3"
  },
  "language_info": {
   "codemirror_mode": {
    "name": "ipython",
    "version": 3
   },
   "file_extension": ".py",
   "mimetype": "text/x-python",
   "name": "python",
   "nbconvert_exporter": "python",
   "pygments_lexer": "ipython3",
   "version": "3.11.6"
  }
 },
 "nbformat": 4,
 "nbformat_minor": 2
}
