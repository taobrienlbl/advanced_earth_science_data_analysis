{
 "cells": [
  {
   "cell_type": "markdown",
   "metadata": {},
   "source": [
    "# Lesson 02: Warm-up & Last Class Refresher\n",
    "\n",
    "Recall that last week's objectives were:\n",
    "\n",
    "* Describe fundamental aspects of a working Python script\n",
    "* Implement novel functions and for loops along with appropriate unit tests\n",
    "* Utilize 'external' python packages\n",
    "\n",
    "This warm-up aims to build on those objectives and reinforce them.\n",
    "\n",
    "\n",
    "## 1. Basics of functions\n",
    "\n",
    "### 1(a): ins and outs\n",
    "\n",
    "Run the following cell.  It doesn't work as expected.  Explain why (in a markdown cell below it) and create a new cell below that with a fixed version of the code."
   ]
  },
  {
   "cell_type": "code",
   "execution_count": null,
   "metadata": {},
   "outputs": [],
   "source": [
    "def factorial(n):\n",
    "    \"\"\"Calculates the factorial of a number.\"\"\"\n",
    "    fac = 1\n",
    "    if n == 1:\n",
    "        fac = 1\n",
    "    else:\n",
    "        fac = n * factorial(n-1)\n",
    "        \n",
    "\n",
    "# test the factorial function; this should print 120\n",
    "print(factorial(5))"
   ]
  },
  {
   "cell_type": "markdown",
   "metadata": {},
   "source": [
    "put answer to 1a here"
   ]
  },
  {
   "cell_type": "code",
   "execution_count": null,
   "metadata": {},
   "outputs": [],
   "source": [
    "# put correct code for 1a here"
   ]
  },
  {
   "cell_type": "markdown",
   "metadata": {},
   "source": [
    "### 1(b): Writing new functions\n",
    "\n",
    "Write a function representing the formula $z = x^2 + y^2$ and verify that it works as expected."
   ]
  },
  {
   "cell_type": "code",
   "execution_count": null,
   "metadata": {},
   "outputs": [],
   "source": [
    "# put code for 1b here"
   ]
  },
  {
   "cell_type": "markdown",
   "metadata": {},
   "source": [
    "### 1(c): Scope\n",
    "\n",
    "We haven't yet discussed the concept of *scope*, so we'll introduce it here through examining an interesting effect (and we'll discuss it more as time goes on.)\n",
    "\n",
    "Run the cell below.  We see that the value of `a` is redefined when `redefine_and_print_a()` is called, so why does the last print statement contain the original definition of `a` and not the one it was given within the function?\n"
   ]
  },
  {
   "cell_type": "code",
   "execution_count": null,
   "metadata": {},
   "outputs": [],
   "source": [
    "# define a as a global variable here\n",
    "a = \"This is `a` with global scope.\"\n",
    "# print a to show its value\n",
    "print(f\"1: {a}\")\n",
    "\n",
    "# define a function\n",
    "def redefine_and_print_a():\n",
    "    # define a as a local variable here\n",
    "    a = \"This is `a` with local scope.\"\n",
    "    # print a to show its value\n",
    "    print(f\"2: {a}\")\n",
    "\n",
    "# call the function\n",
    "redefine_and_print_a()\n",
    "\n",
    "# print a one more time to show its value\n",
    "print(f\"3: {a}\")\n",
    "\n"
   ]
  },
  {
   "cell_type": "markdown",
   "metadata": {},
   "source": [
    "put your guess/answer to 1c here."
   ]
  },
  {
   "cell_type": "markdown",
   "metadata": {},
   "source": [
    "## 2. Using external packages\n",
    "\n",
    "Make a plot of the following equation  using `numpy` and `matplotlib`.  Use `x` values ranging from -8 to 8, and make plots using the following values of $\\sigma$: $\\sigma = [0.25,0.5,1,2,4]$\n",
    "\n",
    "$$N(x) = \\frac{1}{\\sigma \\sqrt{2 \\pi}} e^{-\\frac{x^2}{2 \\sigma^2}}$$\n",
    "\n",
    "Your solution should (a) define a new function to represent this formula, and (b) use a `for` loop.\n",
    "\n",
    "If you have time, customize the x- and y-axis labels, and add a legend."
   ]
  },
  {
   "cell_type": "code",
   "execution_count": null,
   "metadata": {},
   "outputs": [],
   "source": [
    "# put your code for 2 here"
   ]
  }
 ],
 "metadata": {
  "kernelspec": {
   "display_name": "climate_py39",
   "language": "python",
   "name": "python3"
  },
  "language_info": {
   "codemirror_mode": {
    "name": "ipython",
    "version": 3
   },
   "file_extension": ".py",
   "mimetype": "text/x-python",
   "name": "python",
   "nbconvert_exporter": "python",
   "pygments_lexer": "ipython3",
   "version": "3.9.16"
  },
  "orig_nbformat": 4
 },
 "nbformat": 4,
 "nbformat_minor": 2
}
