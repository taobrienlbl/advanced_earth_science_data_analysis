{
 "cells": [
  {
   "cell_type": "markdown",
   "metadata": {},
   "source": [
    "\n",
    "<a target=\"_blank\" href=\"https://colab.research.google.com/github/taobrienlbl/advanced_earth_science_data_analysis/blob/spring_2023_iub/lessons/06_advanced_plotting/06_workalong02_mapping.ipynb\">\n",
    "  <img src=\"https://colab.research.google.com/assets/colab-badge.svg\" alt=\"Open In Colab\"/>\n",
    "</a>\n",
    "\n",
    "# Mapping\n",
    "\n",
    "This workalong and exercise introduce mapping in `matplotlib`. We'll build from the figure we created in the first workalong."
   ]
  },
  {
   "cell_type": "code",
   "execution_count": null,
   "metadata": {},
   "outputs": [],
   "source": [
    "\"\"\" Import libraries \"\"\"\n"
   ]
  },
  {
   "cell_type": "code",
   "execution_count": null,
   "metadata": {},
   "outputs": [],
   "source": [
    "\"\"\" Load the dataset \"\"\"\n",
    "\n",
    "input_file = \"air.2m.gauss.2021.nc\"\n",
    "\n",
    "# open the dataset using xarray\n",
    "temp_ds = xr.open_dataset(input_file, chunks = -1)\n",
    "\n",
    "\"\"\" Calculate the hottest temperature recorded in each season. \"\"\"\n",
    "\n",
    "# xarray is built on top of pandas, so we can use groupby for this\n",
    "season_groups = temp_ds.groupby('time.season')\n",
    "\n",
    "# calculate the max in each season\n",
    "season_max_temp = season_groups.max()\n",
    "\n",
    "# extract temperature (and also use 'squeeze' to remove the pesky single-item level dimension)\n",
    "max_temp_xr = season_max_temp['air'].squeeze()\n",
    "\n",
    "# pull out coordinates\n",
    "seasons = max_temp_xr.season\n",
    "lat = max_temp_xr.lat\n",
    "lon = max_temp_xr.lon\n",
    "\n",
    "# force the calculation\n",
    "max_temp_xr.load();"
   ]
  },
  {
   "cell_type": "markdown",
   "metadata": {},
   "source": [
    "# Cartopy\n",
    "\n",
    "For mapping, we'll use `cartopy`.  Cartopy defines *projection* as the map projection on which the dataset will be drawn.  It defines the *transform* of the dataset as the projection on which the dataset exists.  They can be the same, but they don't have to be.\n",
    "\n",
    "Let's just explore projections."
   ]
  },
  {
   "cell_type": "code",
   "execution_count": null,
   "metadata": {},
   "outputs": [],
   "source": [
    "\n"
   ]
  },
  {
   "cell_type": "code",
   "execution_count": null,
   "metadata": {},
   "outputs": [],
   "source": [
    "\"\"\" Plot the hottest temperature recorded in each season with maplines. \"\"\"\n"
   ]
  }
 ],
 "metadata": {
  "kernelspec": {
   "display_name": "easg690",
   "language": "python",
   "name": "python3"
  },
  "language_info": {
   "codemirror_mode": {
    "name": "ipython",
    "version": 3
   },
   "file_extension": ".py",
   "mimetype": "text/x-python",
   "name": "python",
   "nbconvert_exporter": "python",
   "pygments_lexer": "ipython3",
   "version": "3.10.12"
  },
  "orig_nbformat": 4
 },
 "nbformat": 4,
 "nbformat_minor": 2
}
