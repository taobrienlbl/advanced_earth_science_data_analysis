{
 "cells": [
  {
   "cell_type": "markdown",
   "metadata": {},
   "source": [
    "# Advanced Plotting Workalong\n",
    "\n",
    "In this workalong notebook, we will explore some more advanced plotting techniques, including:\n",
    "\n",
    "* multipanel plotting\n",
    "* axis sharing\n",
    "* adding text to panels\n",
    "* adding a common colorbar\n",
    "* saving figures\n",
    "\n",
    "This will be accompanied by a lecture on the conceptual model underlying `matplotlib`"
   ]
  },
  {
   "cell_type": "markdown",
   "metadata": {},
   "source": [
    "# Loading data\n",
    "\n",
    "As a first step, we'll load some temperature data, similar to last week."
   ]
  },
  {
   "cell_type": "code",
   "execution_count": null,
   "metadata": {},
   "outputs": [],
   "source": [
    "\"\"\" Read in the data \"\"\"\n",
    "import xarray as xr\n",
    "\n",
    "# set the year we want to download\n",
    "year = 2021 \n",
    "# set the URL for the NCEP/DOE Reanalysis 2 data file\n",
    "url = f\"https://psl.noaa.gov/thredds/fileServer/Datasets/ncep.reanalysis2/gaussian_grid/air.2m.gauss.{year}.nc\"\n",
    "\n",
    "# set the name of the file we want to download to\n",
    "output_file = f\"air.2m.gauss.{year}.nc\"\n",
    "\n",
    "# download the data file\n",
    "# NOTE: the use of ! at the beginning of the line indicates that this is a shell command, not python code -- though it does use some python code.  How, why?\n",
    "# check first if the file exists; don't re-download if it does\n",
    "import os\n",
    "if not os.path.exists(output_file):\n",
    "    ! curl --output {output_file} {url}\n",
    "\n",
    "# (a side note for anyone familiar with xarray: you might ask why I don't use xarray to directly open the file from the URL (or the related OpenDAP URL)?  The reason is that it takes several minutes to open this 55 MB file, whereas directly downloading it takes only a couple seconds!)\n",
    "\n",
    "# open the dataset using xarray\n",
    "temp_ds = xr.open_dataset(output_file, chunks = -1)"
   ]
  },
  {
   "cell_type": "code",
   "execution_count": null,
   "metadata": {},
   "outputs": [],
   "source": [
    "\"\"\" Calculate the hottest temperature recorded in each season. \"\"\"\n",
    "\n",
    "# xarray is built on top of pandas, so we can use groupby for this\n",
    "season_groups = temp_ds.groupby('time.season')\n",
    "\n",
    "# calculate the max in each season\n",
    "season_max_temp = season_groups.max()\n",
    "\n",
    "# extract temperature (and also use 'squeeze' to remove the pesky single-item level dimension)\n",
    "max_temp_xr = season_max_temp['air'].squeeze()\n",
    "\n",
    "# show the dataset\n",
    "max_temp_xr"
   ]
  },
  {
   "cell_type": "code",
   "execution_count": null,
   "metadata": {},
   "outputs": [],
   "source": [
    "\"\"\" Pull out season, lat, and lon arrays for plotting. \"\"\"\n",
    "\n",
    "seasons = max_temp_xr.season\n",
    "lat = max_temp_xr.lat\n",
    "lon = max_temp_xr.lon"
   ]
  },
  {
   "cell_type": "markdown",
   "metadata": {},
   "source": [
    "# Multipanel plotting\n",
    "\n",
    "The simplest approach to making a multipanel plot with `matplotlib` is to use `plt.subplots()`"
   ]
  },
  {
   "cell_type": "code",
   "execution_count": null,
   "metadata": {},
   "outputs": [],
   "source": [
    "\"\"\" Generate a multipanel plot of seasonal max temperature, but only fill in the top left panel. \"\"\"\n"
   ]
  },
  {
   "cell_type": "markdown",
   "metadata": {},
   "source": [
    "## A sidenote about `zip`\n",
    "\n",
    "If we want to loop over two things that have the same length, we can use the `zip()` function to loop over corresponding pairs of items in each list.\n",
    "\n",
    "Say we have `list_1 = [0,1,2,3]` and `list_2 = ['i', 'j', 'k', 'l']`.  Then we can iterate over both using zip, e.g.,:\n",
    "\n",
    "```\n",
    "for x1, x2 in zip(list_1, list_2):\n",
    "    print(x1,x2)\n",
    "```\n",
    "\n",
    "Try it below!"
   ]
  },
  {
   "cell_type": "code",
   "execution_count": null,
   "metadata": {},
   "outputs": [],
   "source": [
    "\"\"\" Test the `zip` function \"\"\"\n"
   ]
  },
  {
   "cell_type": "markdown",
   "metadata": {},
   "source": [
    "We can use this to loop over the four seasons in `season` and the four plot panels in `axs`.\n",
    "\n",
    "## Looping over panels\n",
    "\n",
    "Use the code above and incorporate a for-loop with `zip` to plot all four seasons."
   ]
  },
  {
   "cell_type": "code",
   "execution_count": null,
   "metadata": {},
   "outputs": [],
   "source": [
    "\"\"\" Plot data for each season using a for loop and zip\"\"\"\n"
   ]
  },
  {
   "cell_type": "markdown",
   "metadata": {},
   "source": [
    "Great, now we have a four-panel plot.  But there are some things that I don't like about it:\n",
    "\n",
    "1. It lacks a colorbar\n",
    "2. There are no axis labels\n",
    "3. I don't like the aspect ratio\n",
    "4. The fonts look ugly to me\n",
    "5. There's no need to repeat tick labels for each panel\n",
    "6. There are no panel labels (e.g., panel '(a)')\n",
    "7. This colormap is way over-used and probably isn't intuitive for temperature\n",
    "8. It isn't obvious what season each panel corresponds to\n",
    "\n",
    "We'll walk through these in action below."
   ]
  },
  {
   "cell_type": "code",
   "execution_count": null,
   "metadata": {},
   "outputs": [],
   "source": [
    "\"\"\" Force dask to compute the max temperature for each season (saves time when repeating plots)\"\"\"\n",
    "\n"
   ]
  },
  {
   "cell_type": "code",
   "execution_count": null,
   "metadata": {},
   "outputs": [],
   "source": [
    "\"\"\" Make the plot look nice. \"\"\"\n",
    "\n"
   ]
  },
  {
   "cell_type": "markdown",
   "metadata": {},
   "source": [
    "*Add a caption here*"
   ]
  }
 ],
 "metadata": {
  "kernelspec": {
   "display_name": "climate_py39",
   "language": "python",
   "name": "python3"
  },
  "language_info": {
   "codemirror_mode": {
    "name": "ipython",
    "version": 3
   },
   "file_extension": ".py",
   "mimetype": "text/x-python",
   "name": "python",
   "nbconvert_exporter": "python",
   "pygments_lexer": "ipython3",
   "version": "3.9.16"
  },
  "orig_nbformat": 4
 },
 "nbformat": 4,
 "nbformat_minor": 2
}
