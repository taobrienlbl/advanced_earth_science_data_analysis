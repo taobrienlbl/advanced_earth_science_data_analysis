{
 "cells": [
  {
   "cell_type": "markdown",
   "metadata": {},
   "source": [
    "<a target=\"_blank\" href=\"https://colab.research.google.com/github/taobrienlbl/advanced_earth_science_data_analysis/blob/spring_2023_iub/lessons/03_data_science_modules/03_warmup.ipynb\">\n",
    "  <img src=\"https://colab.research.google.com/assets/colab-badge.svg\" alt=\"Open In Colab\"/>\n",
    "</a>\n",
    "\n",
    "In the last class we installed Anaconda python, visual studio code, and github.  We also practiced a bit with git, forming a coursework repository with folders for each lesson.\n",
    "\n",
    "In this refresher notebook, you'll build on skills from the first lecture and also practice working a bit more with git.\n",
    "\n",
    "# Instructions\n",
    "\n",
    "1. Open Visual Studio Code to the coursework folder you worked with last class\n",
    "2. Create a new directory for this lesson (we're on lesson 3)\n",
    "3. Download this notebook & put it in your lesson 3 folder\n",
    "4. Complete the exercises below\n",
    "5. Add (stage) this notebook, commit, and push your repository to github\n",
    "6. Verify that this notebook shows up in github as expected\n",
    "\n",
    "## Exercises\n",
    "\n",
    "### 1. Flow control: `for` & `if` statements\n",
    "\n",
    "Write and run a function that loops from 0 to 20 (inclusive) and prints \"This is 7\" only when the loop reaches the value of seven.  If your code is written correctly, it should do something like the following:\n",
    "\n",
    "```\n",
    ">>> # run the function\n",
    ">>> loop_and_print()\n",
    "This is 7\n",
    "```"
   ]
  },
  {
   "cell_type": "code",
   "execution_count": null,
   "metadata": {},
   "outputs": [],
   "source": [
    "# write your `loop_and_print()` function here"
   ]
  },
  {
   "cell_type": "markdown",
   "metadata": {},
   "source": [
    "### 2. `numpy` and `matplotlib`\n",
    "\n",
    "The code in the cell below is uncommented (terrible, I know).  Run the cell, examine the contents, comment the code and also add a triple-quote string at the top of the cell overviewing what the cell does, e.g., `\"\"\" VERB PHRASE FOR CELL \"\"\"`, and also do the same for the `normal_cdf` function."
   ]
  },
  {
   "cell_type": "code",
   "execution_count": null,
   "metadata": {},
   "outputs": [],
   "source": [
    "import numpy as np\n",
    "import scipy.special\n",
    "import matplotlib.pyplot as plt\n",
    "\n",
    "N = 1000\n",
    "np.random.seed(42)\n",
    "x = np.random.normal(size = N)\n",
    "\n",
    "sorted_x = np.sort(x)\n",
    "\n",
    "ecdf_x = np.arange(1, N+1) / N\n",
    "\n",
    "def normal_cdf(x):\n",
    "    \"\"\" Calculates the CDF of the standard normal distribution at x.\"\"\"\n",
    "    return (1 + scipy.special.erf(x / np.sqrt(2))) / 2\n",
    "\n",
    "plt.plot(sorted_x, ecdf_x, label = 'Empirical CDF')\n",
    "plt.plot(sorted_x, normal_cdf(sorted_x), label = 'Analytical CDF')\n",
    "plt.xlabel('x')\n",
    "plt.ylabel('Cumulative Probability')\n",
    "plt.legend()\n",
    "plt.show()\n",
    "\n"
   ]
  }
 ],
 "metadata": {
  "kernelspec": {
   "display_name": "Python 3",
   "language": "python",
   "name": "python3"
  },
  "language_info": {
   "codemirror_mode": {
    "name": "ipython",
    "version": 3
   },
   "file_extension": ".py",
   "mimetype": "text/x-python",
   "name": "python",
   "nbconvert_exporter": "python",
   "pygments_lexer": "ipython3",
   "version": "3.11.4"
  },
  "orig_nbformat": 4
 },
 "nbformat": 4,
 "nbformat_minor": 2
}
