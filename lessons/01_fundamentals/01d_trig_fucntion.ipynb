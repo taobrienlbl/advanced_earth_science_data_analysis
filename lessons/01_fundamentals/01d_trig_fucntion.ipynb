{
 "cells": [
  {
   "cell_type": "markdown",
   "metadata": {},
   "source": [
    "<a target=\"_blank\" href=\"https://colab.research.google.com/github/taobrienlbl/advanced_earth_science_data_analysis/blob/spring_2023_iub/lessons/01_fundamentals/01d_trig_fucntion.ipynb\">\n",
    "  <img src=\"https://colab.research.google.com/assets/colab-badge.svg\" alt=\"Open In Colab\"/>\n",
    "</a>\n",
    "\n",
    "In this group exercise, you will complete the following:\n",
    "\n",
    "* Write the following functions:\n",
    "  * `exp(x)`\n",
    "  * `cos(x)`\n",
    "  * `sin(x)`\n",
    "  * `tan(x)`\n",
    "* Verify that the functions behave as expected\n",
    "\n",
    "There is a useful concept that we haven't touched on yet: complex numbers in Python.  You could, for example, define the imaginary number $i = \\sqrt{-1}$ in Python as `i = 1.0j`, where the `j` after the number indicates that the number is the imaginary part of a complex number."
   ]
  },
  {
   "cell_type": "code",
   "execution_count": null,
   "metadata": {},
   "outputs": [],
   "source": [
    "# remove this line and write your code here"
   ]
  }
 ],
 "metadata": {
  "language_info": {
   "name": "python"
  },
  "orig_nbformat": 4
 },
 "nbformat": 4,
 "nbformat_minor": 2
}
