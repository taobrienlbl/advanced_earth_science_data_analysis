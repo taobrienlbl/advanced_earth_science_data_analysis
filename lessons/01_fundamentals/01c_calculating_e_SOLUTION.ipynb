{
 "cells": [
  {
   "cell_type": "markdown",
   "metadata": {},
   "source": [
    "In this group exercise, you will mimic what we did with π: you will write code to calculate $e$ using the following series approximation (from [wikipedia](https://en.wikipedia.org/wiki/List_of_representations_of_e#As_an_infinite_series)):\n",
    "\n",
    "\n",
    "$$ e = \\sum\\limits_{k=0}^{\\infty} \\frac{1}{k!} $$\n",
    "\n",
    "where $k!$ represents 'k factorial': $k! = 1 \\cdot 2 \\cdot 3 \\cdot \\ldots \\cdot k$\n"
   ]
  },
  {
   "cell_type": "code",
   "execution_count": 1,
   "metadata": {},
   "outputs": [
    {
     "name": "stdout",
     "output_type": "stream",
     "text": [
      "2.7182818284590455\n"
     ]
    }
   ],
   "source": [
    "# initialize the value of e\n",
    "e = 0\n",
    "\n",
    "# set the number of iterations\n",
    "N = 100000\n",
    "\n",
    "# initialize the factorial\n",
    "kfactorial = 1\n",
    "\n",
    "# loop to a very large number\n",
    "for i in range(N):\n",
    "    # update the factorial\n",
    "    if i > 0:\n",
    "        kfactorial = kfactorial * i\n",
    "\n",
    "    # update the estimate of e\n",
    "    e = e + 1/kfactorial\n",
    "\n",
    "# print e\n",
    "print(e)"
   ]
  },
  {
   "cell_type": "code",
   "execution_count": 2,
   "metadata": {},
   "outputs": [
    {
     "name": "stdout",
     "output_type": "stream",
     "text": [
      "2.718281828459045\n"
     ]
    }
   ],
   "source": [
    "\"\"\" Show the value of e from the math library \"\"\"\n",
    "import math\n",
    "print(math.e)"
   ]
  }
 ],
 "metadata": {
  "kernelspec": {
   "display_name": "climate_py39",
   "language": "python",
   "name": "python3"
  },
  "language_info": {
   "codemirror_mode": {
    "name": "ipython",
    "version": 3
   },
   "file_extension": ".py",
   "mimetype": "text/x-python",
   "name": "python",
   "nbconvert_exporter": "python",
   "pygments_lexer": "ipython3",
   "version": "3.9.16"
  },
  "orig_nbformat": 4
 },
 "nbformat": 4,
 "nbformat_minor": 2
}
