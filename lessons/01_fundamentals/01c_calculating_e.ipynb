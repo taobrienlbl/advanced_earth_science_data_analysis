{
 "cells": [
  {
   "cell_type": "markdown",
   "metadata": {},
   "source": [
    "<a target=\"_blank\" href=\"https://colab.research.google.com/github/taobrienlbl/advanced_earth_science_data_analysis/blob/spring_2023_iub/lessons/01_fundamentals/01c_calculating_e.ipynb\">\n",
    "  <img src=\"https://colab.research.google.com/assets/colab-badge.svg\" alt=\"Open In Colab\"/>\n",
    "</a>\n",
    "\n",
    "In this group exercise, you will mimic what we did with π: you will write code to calculate $e$ using the following series approximation (from [wikipedia](https://en.wikipedia.org/wiki/List_of_representations_of_e#As_an_infinite_series)):\n",
    "\n",
    "\n",
    "$$ e = \\sum\\limits_{k=0}^{\\infty} \\frac{1}{k!} $$\n",
    "\n",
    "where $k!$ represents 'k factorial': $k! = 1 \\cdot 2 \\cdot 3 \\cdot \\ldots \\cdot k$\n"
   ]
  },
  {
   "cell_type": "code",
   "execution_count": 1,
   "metadata": {},
   "outputs": [],
   "source": [
    "# remove this line and add your code here and in cells below as applicable"
   ]
  }
 ],
 "metadata": {
  "kernelspec": {
   "display_name": "climate_py39",
   "language": "python",
   "name": "python3"
  },
  "language_info": {
   "codemirror_mode": {
    "name": "ipython",
    "version": 3
   },
   "file_extension": ".py",
   "mimetype": "text/x-python",
   "name": "python",
   "nbconvert_exporter": "python",
   "pygments_lexer": "ipython3",
   "version": "3.9.16"
  },
  "orig_nbformat": 4
 },
 "nbformat": 4,
 "nbformat_minor": 2
}
