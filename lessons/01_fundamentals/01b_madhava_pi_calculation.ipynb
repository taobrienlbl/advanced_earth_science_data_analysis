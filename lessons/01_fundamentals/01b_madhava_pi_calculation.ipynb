{
 "cells": [
  {
   "cell_type": "markdown",
   "metadata": {},
   "source": [
    "<a target=\"_blank\" href=\"https://colab.research.google.com/github/taobrienlbl/advanced_earth_science_data_analysis/blob/spring_2023_iub/lessons/01_fundamentals/01b_madhava_pi_calculation.ipynb\">\n",
    "  <img src=\"https://colab.research.google.com/assets/colab-badge.svg\" alt=\"Open In Colab\"/>\n",
    "</a>\n",
    "\n",
    "This notebook is designed to be a live demonstration of Python fundamentals applied to calculating π using the [Madhava-Leibniz series](https://en.wikipedia.org/wiki/Approximations_of_%CF%80#Middle_Ages)\n",
    "\n",
    "The approximation is simple:\n",
    "\n",
    "$$ \\pi \\approx 4 \\cdot \\left(1 - \\frac{1}{3} + \\frac{1}{5} - \\frac{1}{7} + \\frac{1}{9} \\ldots -(-1)^n \\frac{1}{2n - 1}  \\right) $$\n",
    "\n",
    "Key conceptual and coding vocabulary to watch for:\n",
    "\n",
    "* *comments*: anything starting with, and to the right of, `#`\n",
    "* *flow control*: `for` loops\n",
    "* *flow control*: `if` and `else` statements\n",
    "* `=` - the variable definition operator; read `pi = 0` as 'computer, store the 0 in the variable named pi'\n",
    "* `==` - the evaluation operator (checks if two things are equivalent)\n",
    "* `[]` - an empty list\n",
    "* `.append()` - add a variable/quantity/etc. to the end of a list\n",
    "* `range(a,b)` - creates a list of integers between [a,b) (not including b)\n",
    "* `+`, `-`, `*`, `/` - the addition, subtraction, multiplication, and division operators\n",
    "* `x**y` - the power operator; read as 'x to the y'\n",
    "* `print(x)` - prints the contents of x\n",
    "* indentation - why are some lines indented in python and not other?  What happens if you change this?"
   ]
  },
  {
   "cell_type": "code",
   "execution_count": null,
   "metadata": {},
   "outputs": [],
   "source": [
    "# remove this comment and add your pi calculation code here"
   ]
  },
  {
   "cell_type": "markdown",
   "metadata": {},
   "source": [
    "(want the solution?  Find it [here](https://github.com/taobrienlbl/advanced_earth_science_data_analysis/blob/spring_2023_iub/lessons/01_fundamentals/01b_madhava_pi_calculation_SOLUTION.ipynb))"
   ]
  }
 ],
 "metadata": {
  "kernelspec": {
   "display_name": "climate_py39",
   "language": "python",
   "name": "python3"
  },
  "language_info": {
   "codemirror_mode": {
    "name": "ipython",
    "version": 3
   },
   "file_extension": ".py",
   "mimetype": "text/x-python",
   "name": "python",
   "nbconvert_exporter": "python",
   "pygments_lexer": "ipython3",
   "version": "3.9.16"
  },
  "orig_nbformat": 4
 },
 "nbformat": 4,
 "nbformat_minor": 2
}
