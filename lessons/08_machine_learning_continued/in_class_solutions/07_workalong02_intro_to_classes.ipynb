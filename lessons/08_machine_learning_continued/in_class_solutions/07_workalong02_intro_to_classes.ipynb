{
 "cells": [
  {
   "cell_type": "markdown",
   "metadata": {},
   "source": [
    "<a target=\"_blank\" href=\"https://colab.research.google.com/github/taobrienlbl/advanced_earth_science_data_analysis/blob/spring_2023_iub/lessons/07_machine_learning_intro/07_workalong02_intro_to_classes.ipynb\">\n",
    "  <img src=\"https://colab.research.google.com/assets/colab-badge.svg\" alt=\"Open In Colab\"/>\n",
    "</a>\n",
    "\n",
    "# Intro to *classes* in Python\n",
    "\n",
    "This notebook walks through some demonstrations of classes; it is accompanied by a bit of lecture."
   ]
  },
  {
   "cell_type": "code",
   "execution_count": 13,
   "metadata": {},
   "outputs": [],
   "source": [
    "\"\"\" Define a class called Animal. \"\"\"\n",
    "\n",
    "class Animal():\n",
    "\n",
    "    def __init__(self, limbs = 4, eyes = 2, tail = 1):\n",
    "        self.limbs = limbs # store limbs as an attribute of the object\n",
    "        self.eyes = eyes\n",
    "        self.tail = tail\n",
    "\n",
    "    def speak(self):\n",
    "        \"\"\" Define a 'method' (function within a class) \"\"\"\n",
    "        print(\"Hello, I am an animal.\")\n",
    "\n",
    "    def describe(self):\n",
    "        \"\"\" This is another method. \"\"\"\n",
    "        print(f\"I have {self.limbs} limbs, {self.eyes} eyes, and {self.tail} tail(s)\")\n",
    "\n",
    "\n",
    "\n"
   ]
  },
  {
   "cell_type": "code",
   "execution_count": 14,
   "metadata": {},
   "outputs": [
    {
     "name": "stdout",
     "output_type": "stream",
     "text": [
      "I have 4 limbs, 2 eyes, and 1 tail(s)\n",
      "\n",
      "Hello, I am an animal.\n",
      "I have 5 limbs, 0 eyes, and 0 tail(s)\n"
     ]
    }
   ],
   "source": [
    "\"\"\" Test the Animal class. \"\"\"\n",
    "\n",
    "pet1 = Animal() # create an animal object\n",
    "pet1.describe()\n",
    "print()\n",
    "\n",
    "# create another object, using different #s of limbs\n",
    "starfish = Animal(limbs = 5, eyes = 0, tail = 0)\n",
    "starfish.speak()\n",
    "starfish.describe()"
   ]
  },
  {
   "cell_type": "markdown",
   "metadata": {},
   "source": [
    "# Inheritance"
   ]
  },
  {
   "cell_type": "code",
   "execution_count": 23,
   "metadata": {},
   "outputs": [],
   "source": [
    "\n",
    "class Dog(Animal):\n",
    "\n",
    "    def __init__(self, name, breed):\n",
    "        \"\"\" This is the constructor: it is called when a new object of typ 'Dog' is created\"\"\"\n",
    "        # initialize the parent, but force the number of limbs\n",
    "        super().__init__(limbs = 4, eyes = 2, tail = 1)\n",
    "        # store name and breed\n",
    "        self.name = name\n",
    "        self.breed = breed\n",
    "\n",
    "    def speak(self):\n",
    "        \"\"\" Prints '{dogs name}: Woof!' \"\"\"\n",
    "        print(f\"{self.name}: Woof!\")\n",
    "\n",
    "    def __repr__(self):\n",
    "        \"\"\" This is a special method that is called when an object is printed\"\"\"\n",
    "\n",
    "        return f\"Dog(name = '{self.name}', breed = '{self.breed}')\"\n",
    "\n",
    "\n"
   ]
  },
  {
   "cell_type": "code",
   "execution_count": 24,
   "metadata": {},
   "outputs": [
    {
     "name": "stdout",
     "output_type": "stream",
     "text": [
      "I have 4 limbs, 2 eyes, and 1 tail(s)\n",
      "Gabby: Woof!\n",
      "\n",
      "Hamachi: Woof!\n"
     ]
    }
   ],
   "source": [
    "\"\"\" Test the dog class \"\"\"\n",
    "gabby = Dog(\"Gabby\", \"corgi\")\n",
    "gabby.describe()\n",
    "gabby.speak()\n",
    "print()\n",
    "\n",
    "hamachi = Dog(\"Hamachi\", \"Terrier\")\n",
    "hamachi.speak()"
   ]
  },
  {
   "cell_type": "code",
   "execution_count": 25,
   "metadata": {},
   "outputs": [
    {
     "data": {
      "text/plain": [
       "Dog(name = 'Gabby', breed = 'corgi')"
      ]
     },
     "execution_count": 25,
     "metadata": {},
     "output_type": "execute_result"
    }
   ],
   "source": [
    "gabby"
   ]
  },
  {
   "cell_type": "code",
   "execution_count": null,
   "metadata": {},
   "outputs": [],
   "source": [
    "\"\"\" Create two animal objects.\"\"\"\n"
   ]
  },
  {
   "cell_type": "code",
   "execution_count": null,
   "metadata": {},
   "outputs": [],
   "source": []
  },
  {
   "cell_type": "code",
   "execution_count": null,
   "metadata": {},
   "outputs": [],
   "source": [
    "\"\"\" Call the methods of the animal objects. \"\"\"\n"
   ]
  },
  {
   "cell_type": "code",
   "execution_count": null,
   "metadata": {},
   "outputs": [],
   "source": [
    "\"\"\" Create a new class called Dog that inherits from Animal. \"\"\"\n",
    "\n"
   ]
  },
  {
   "cell_type": "code",
   "execution_count": null,
   "metadata": {},
   "outputs": [],
   "source": []
  },
  {
   "cell_type": "markdown",
   "metadata": {},
   "source": [
    "$$ f(x) = a x^2 + b x + c $$\n",
    "\n",
    "$$ f'(x) = 2 a x + b $$"
   ]
  },
  {
   "cell_type": "code",
   "execution_count": 38,
   "metadata": {},
   "outputs": [],
   "source": [
    "\"\"\" Now create a new quadratic class that has a 'gradient' method. \"\"\"\n",
    "\n",
    "class Quadratic:\n",
    "\n",
    "    def __init__(self, a, b, c):\n",
    "        \"\"\" This is the constructor: it is called when a new object of type 'Quadratic' is created \"\"\"\n",
    "        # store the coefficients as attributes\n",
    "        self.a = a\n",
    "        self.b = b\n",
    "        self.c = c\n",
    "\n",
    "    def gradient(self, x):\n",
    "        \"\"\" Calculate the gradient of the quadratic at a given point. \"\"\"\n",
    "        return 2*self.a*x + self.b\n",
    "\n",
    "    def evaluate(self, x):\n",
    "        \"\"\" This method evaluates the polynomial \"\"\"\n",
    "        return self.a*x**2 + self.b*x + self.c\n",
    "\n",
    "    def __repr__(self):\n",
    "        \"\"\" Print the quadratic \"\"\"\n",
    "        return f\"{self.a}*x**2 + {self.b}*x + {self.c}\"\n",
    "\n",
    "    def __call__(self, x):\n",
    "        \"\"\" Evaluate the quadratic \"\"\"\n",
    "        return self.evaluate(x)"
   ]
  },
  {
   "cell_type": "code",
   "execution_count": 39,
   "metadata": {},
   "outputs": [
    {
     "data": {
      "text/plain": [
       "0*x**2 + 2*x + 3"
      ]
     },
     "execution_count": 39,
     "metadata": {},
     "output_type": "execute_result"
    }
   ],
   "source": [
    "\"\"\" Test the quadratic class.\"\"\"\n",
    "f1 = Quadratic(0,2,3)\n",
    "f1"
   ]
  },
  {
   "cell_type": "code",
   "execution_count": 40,
   "metadata": {},
   "outputs": [
    {
     "data": {
      "text/plain": [
       "3"
      ]
     },
     "execution_count": 40,
     "metadata": {},
     "output_type": "execute_result"
    }
   ],
   "source": [
    "f1.evaluate(0) # should evaluate to 3"
   ]
  },
  {
   "cell_type": "code",
   "execution_count": 41,
   "metadata": {},
   "outputs": [
    {
     "data": {
      "text/plain": [
       "2"
      ]
     },
     "execution_count": 41,
     "metadata": {},
     "output_type": "execute_result"
    }
   ],
   "source": [
    "f1.gradient(0) # should evaluate to 2"
   ]
  },
  {
   "cell_type": "code",
   "execution_count": 42,
   "metadata": {},
   "outputs": [
    {
     "data": {
      "text/plain": [
       "3"
      ]
     },
     "execution_count": 42,
     "metadata": {},
     "output_type": "execute_result"
    }
   ],
   "source": [
    "f1(0)"
   ]
  },
  {
   "cell_type": "code",
   "execution_count": null,
   "metadata": {},
   "outputs": [],
   "source": []
  }
 ],
 "metadata": {
  "kernelspec": {
   "display_name": "easg690",
   "language": "python",
   "name": "python3"
  },
  "language_info": {
   "codemirror_mode": {
    "name": "ipython",
    "version": 3
   },
   "file_extension": ".py",
   "mimetype": "text/x-python",
   "name": "python",
   "nbconvert_exporter": "python",
   "pygments_lexer": "ipython3",
   "version": "3.10.12"
  }
 },
 "nbformat": 4,
 "nbformat_minor": 2
}
