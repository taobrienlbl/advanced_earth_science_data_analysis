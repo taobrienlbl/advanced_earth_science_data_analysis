{
 "cells": [
  {
   "cell_type": "markdown",
   "metadata": {},
   "source": [
    "# Multidimensional Array Exercise\n",
    "\n",
    "In this exercise, you will apply the principles of using multidimensional arrays to estimate global mean temperature from a gridded dataset, accounting for the fact that grid cells become smaller at the poles.\n",
    "\n",
    "In a dataset with evenly spaced latitude and longitude values, the meridians converge at the poles, making the cells smaller.  The area of the cells is proportional to the cosine of the latitude $\\theta$ (in radians):\n",
    "\n",
    "$$ \\Delta A = R_{\\oplus}^2 \\Delta \\theta \\Delta \\phi \\cdot \\cos(\\theta) $$\n",
    "$$ \\Delta A \\propto \\cos(\\theta)$$\n",
    "\n",
    "Therefore, when calculating the global average of a quantity (like temperature), the values need to be weighted by $\\cos(\\theta)$.\n",
    "\n",
    "**Goal**: correctly calculate a timeseries of global mean temperature from the dataset below\n",
    "\n",
    "Instructions:\n",
    "\n",
    "1. execute the cell below to download the dataset (this is the one we used to make sound in the first class)\n",
    "1. the cell includes code to extract the latitude values (in degrees; `lat`) and the temperature field `temp_3d` as numpy arrays\n",
    "1. calculate and plot a timeseries of global mean temperature, using the $cos(\\theta)$ weighting"
   ]
  },
  {
   "cell_type": "code",
   "execution_count": 2,
   "metadata": {},
   "outputs": [],
   "source": [
    "\"\"\" Read in the data \"\"\"\n",
    "import xarray as xr\n",
    "\n",
    "# set the year we want to download\n",
    "year = 1983 \n",
    "# set the URL for the NCEP/DOE Reanalysis 2 data file\n",
    "url = f\"https://psl.noaa.gov/thredds/fileServer/Datasets/ncep.reanalysis2/gaussian_grid/air.2m.gauss.{year}.nc\"\n",
    "\n",
    "# set the name of the file we want to download to\n",
    "output_file = f\"air.2m.gauss.{year}.nc\"\n",
    "\n",
    "# download the data file\n",
    "# NOTE: the use of ! at the beginning of the line indicates that this is a shell command, not python code -- though it does use some python code.  How, why?\n",
    "# check first if the file exists; don't re-download if it does\n",
    "import os\n",
    "if not os.path.exists(output_file):\n",
    "    ! curl --output {output_file} {url}\n",
    "\n",
    "# (a side note for anyone familiar with xarray: you might ask why I don't use xarray to directly open the file from the URL (or the related OpenDAP URL)?  The reason is that it takes several minutes to open this 55 MB file, whereas directly downloading it takes only a couple seconds!)\n",
    "\n",
    "# open the dataset using xarray\n",
    "temp_ds = xr.open_dataset(output_file, chunks = -1)\n",
    "\n",
    "# get the latitude and temperature values as numpy arrays\n",
    "lat = temp_ds.lat.values\n",
    "temp_3d = temp_ds.air.values"
   ]
  },
  {
   "cell_type": "code",
   "execution_count": null,
   "metadata": {},
   "outputs": [],
   "source": [
    "# do the exercise here"
   ]
  }
 ],
 "metadata": {
  "kernelspec": {
   "display_name": "climate_py39",
   "language": "python",
   "name": "python3"
  },
  "language_info": {
   "codemirror_mode": {
    "name": "ipython",
    "version": 3
   },
   "file_extension": ".py",
   "mimetype": "text/x-python",
   "name": "python",
   "nbconvert_exporter": "python",
   "pygments_lexer": "ipython3",
   "version": "3.9.16"
  },
  "orig_nbformat": 4
 },
 "nbformat": 4,
 "nbformat_minor": 2
}
