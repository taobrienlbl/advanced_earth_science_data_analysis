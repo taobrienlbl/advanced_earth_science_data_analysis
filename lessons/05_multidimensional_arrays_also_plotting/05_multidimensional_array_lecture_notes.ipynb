{
 "cells": [
  {
   "cell_type": "markdown",
   "metadata": {},
   "source": [
    "# Multidimensional Arrays - lecture notes\n",
    "\n",
    "This lecture covers some of the basics of manipulating and operating on multidimensional data with `numpy`.\n",
    "\n",
    "## The Memory Model of Arrays\n",
    "\n",
    "### Storing numbers in computer memory\n",
    "Before diving into arrays, it is useful to cover the underlying conceptual model of computer memory and how numbers are stored.\n",
    "\n",
    "Computer memory can be visualized as a long, linear sequence of zeros and ones:\n",
    "```\n",
    "[ 0 1 0 0 0 1 0 0 1 1 1 0 1 0 0 1 1 1 ... ]\n",
    "```\n",
    "\n",
    "When you 'store' something in computer memory, what that means is that you encode the information as a series of binary values; you change part of the sequence of zeros and ones.\n",
    "\n",
    "Every integer can be represented as a binary number, i.e.,:\n",
    "\n",
    "| Integer       | Binary representation |\n",
    "| ------------- | --------------------- |\n",
    "| 0             | 0                     |\n",
    "| 1             | 1                     |\n",
    "| 2             | 10                    |\n",
    "| ...           | ...                   |\n",
    "| 354           | 101100010             |\n",
    "\n",
    "And every number can be approximated by a set of integers, e.g., using scientific notation.  For example, in the number 1.524e26, can be represented by the integers [1, 524, 26] as long as we know that the first value is the integer to the left of the decimal, the second is the integer to the right, and 26 is the order-of-magnitude.  We call value like this *floating point* numbers.\n",
    "\n",
    "So storing a number in memory implies storing a specific sequence of zeros and ones that correspond to some agreed-upon way of representing that number in binary (e.g., the [IEEE 754 floating point format](https://en.wikipedia.org/wiki/IEEE_754)). `numpy` currently defaults to using sequences of 32 zeros and ones to approximate floating point numbers (referred to as a 32-bit float or a 4 byte float, since there are 8 bits per *byte* of memory).\n",
    "\n",
    "### Memory and arrays\n",
    "\n",
    "Vectors and arrays are stored in computer memory as a continuous sequence of the binary-representation of the numbers in the array.  Let's see an example.\n"
   ]
  },
  {
   "cell_type": "code",
   "execution_count": 1,
   "metadata": {},
   "outputs": [
    {
     "name": "stdout",
     "output_type": "stream",
     "text": [
      "[0.2 1.4] ==> 00111110010011001100110011001101 00111111101100110011001100110011 "
     ]
    }
   ],
   "source": [
    "\"\"\" Show the binary representation of an array of floats \"\"\"\n",
    "# import numpy\n",
    "import numpy as np\n",
    "\n",
    "# import struct to convert floats to binary\n",
    "# from https://stackoverflow.com/a/16444778\n",
    "import struct\n",
    "def binary(num):\n",
    "    return ''.join('{:0>8b}'.format(c) for c in struct.pack('!f', num))\n",
    "\n",
    "# create an array of 2 arbitrary floats\n",
    "floats = np.array([0.2,1.4])\n",
    "\n",
    "# show the binary representation of the floats, as zeros and ones\n",
    "print(f\"{floats} ==> \", end = \"\")\n",
    "for f in floats:\n",
    "    print(binary(f), end=\" \")"
   ]
  },
  {
   "cell_type": "markdown",
   "metadata": {},
   "source": [
    "By convention, numpy stores 2D arrays as a sequence of rows:\n",
    "\n",
    "```\n",
    "-------\n",
    "| a b |\n",
    "-------  ==> [ a b c d ]\n",
    "| c d |\n",
    "-------\n",
    "```\n",
    "\n",
    "we can see this by using `numpy.ravel()`, which converts an multidimensional array to it's vector form."
   ]
  },
  {
   "cell_type": "code",
   "execution_count": 2,
   "metadata": {},
   "outputs": [
    {
     "name": "stdout",
     "output_type": "stream",
     "text": [
      "[[1 2]\n",
      " [3 4]]\n",
      "[1 2 3 4]\n"
     ]
    }
   ],
   "source": [
    "\"\"\" show how a 2D array is stored in memory \"\"\"\n",
    "array_2d = np.array(\n",
    "    [[1,2],\n",
    "     [3,4]]\n",
    ")\n",
    "\n",
    "print(array_2d)\n",
    "print(array_2d.ravel())"
   ]
  },
  {
   "cell_type": "markdown",
   "metadata": {},
   "source": [
    "Higher dimensional arrays can be viewed as being composed of 2D arrays: 3D arrays are a stack of 2D arrays, 4D arrays are a stack of 3D arrays which are a stack of 2D arrays, and so on.  Higher dimensional arrays are stored as a logically-ordered sequence of 2D arrays.The first 2D array in a 3D array is 'vectorized' by storing numbers row-by-row, then the second, third and so-on arrays in a 3D array.\n",
    "\n",
    "![an image of a vector, matrix, and cube](image.png)\n",
    "\n",
    "(image taken from https://bigfundu.medium.com/numpy-basics-4-fbd93ab72164)\n",
    "\n",
    "Let's see an example:"
   ]
  },
  {
   "cell_type": "code",
   "execution_count": 3,
   "metadata": {},
   "outputs": [
    {
     "name": "stdout",
     "output_type": "stream",
     "text": [
      "[[[1 2]\n",
      "  [3 4]]\n",
      "\n",
      " [[5 6]\n",
      "  [7 8]]]\n",
      "[1 2 3 4 5 6 7 8]\n"
     ]
    }
   ],
   "source": [
    "array_3d = np.array(\n",
    "    [\n",
    "        [[1,2],\n",
    "        [3,4]],\n",
    "        [[5,6],\n",
    "        [7,8]]\n",
    "    ]\n",
    ")\n",
    "\n",
    "print(array_3d)\n",
    "\n",
    "print(array_3d.ravel())"
   ]
  },
  {
   "cell_type": "markdown",
   "metadata": {},
   "source": [
    "## Why does this matter?\n",
    "\n",
    "We went through all this because this idea informs how we talk about these arrays.  A fundamental concept is the idea of an 'index' in a vector: e.g., in the vector `[5, 9, 8]`, the first index (index zero in Python) corresponds to the number 5, the second (index 1) to the number 9, and so on.  The *index* in a 32-bit float array refers to a specific set of 32 binary numbers in a contiguous array of zeros and ones.\n",
    "\n",
    "Multidimensional arrays have *axes* in `numpy` lingo.  Axes refer to order in which the array is converted to a vector when stored in memory.   For a 2D array, the rows are axis 0, and the columns are axis 1.  For a 3D array, the 'depth' of the array is axis 3.\n",
    "\n",
    "# Array indexing\n",
    "\n",
    "This also corresponds to how we access elements of an array using *slice* notation."
   ]
  },
  {
   "cell_type": "code",
   "execution_count": 4,
   "metadata": {},
   "outputs": [
    {
     "name": "stdout",
     "output_type": "stream",
     "text": [
      "[[0. 0. 0.]\n",
      " [0. 0. 0.]\n",
      " [0. 1. 0.]]\n"
     ]
    }
   ],
   "source": [
    "\"\"\" demonstrate accessing elements of a 2D array \"\"\"\n",
    "\n",
    "# create a 3x3 2D array of zeros\n",
    "test_2d = np.zeros((3,3))\n",
    "\n",
    "# set the bottom middle element to 1;\n",
    "# this element corresponds to row index 2 and column index 1\n",
    "# rows are the first axis, so we put 2 as the first index\n",
    "test_2d[2,1] = 1\n",
    "\n",
    "# print the array\n",
    "print(test_2d)"
   ]
  },
  {
   "cell_type": "code",
   "execution_count": 5,
   "metadata": {},
   "outputs": [
    {
     "name": "stdout",
     "output_type": "stream",
     "text": [
      "[[[0. 0. 0.]\n",
      "  [0. 0. 0.]\n",
      "  [0. 0. 0.]]\n",
      "\n",
      " [[0. 0. 0.]\n",
      "  [0. 0. 0.]\n",
      "  [0. 0. 0.]]\n",
      "\n",
      " [[0. 0. 0.]\n",
      "  [1. 0. 0.]\n",
      "  [0. 0. 0.]]]\n",
      "\n",
      "\n",
      "[[0. 0. 0.]\n",
      " [0. 0. 0.]\n",
      " [0. 1. 0.]]\n"
     ]
    }
   ],
   "source": [
    "\"\"\" demonstrate accessing elements of a 3D array \"\"\"\n",
    "\n",
    "# create a 3x3x3 3D array of zeros\n",
    "test_3d = np.zeros((3,3,3))\n",
    "\n",
    "# set the bottom middle element of the bottom matrix to 1;\n",
    "# this element corresponds to row index 2 and column index 1 and depth index 0\n",
    "# rows are the first axis, so we put 2 as the first index\n",
    "test_3d[2,1,0] = 1\n",
    "\n",
    "# print the array; note that numpy prints 3D arrays in a way that is\n",
    "# (to me) not very intuitive\n",
    "print(test_3d)\n",
    "\n",
    "# show that the bottom matrix is the same as above\n",
    "print()\n",
    "print()\n",
    "print(test_3d[:,:,0])\n"
   ]
  },
  {
   "cell_type": "markdown",
   "metadata": {},
   "source": [
    "# Array reductions\n",
    "\n",
    "Now that we have established what *index* and *axis* mean, we'll start to look at some array operations: specifically *reduction* operations.  Reductions change the *order* of the array; the order refers to how many axes the array has.\n",
    "\n",
    "Let's examine one of the most fundamental: `sum()`"
   ]
  },
  {
   "cell_type": "code",
   "execution_count": 6,
   "metadata": {},
   "outputs": [
    {
     "name": "stdout",
     "output_type": "stream",
     "text": [
      "[[0. 0. 0. 0.]\n",
      " [0. 0. 0. 0.]\n",
      " [0. 1. 0. 0.]]\n",
      "\n",
      "sum(test_2d) = 1.0  <--- sum over all elements\n",
      "\n",
      "sum(test_2d, axis=0) = [0. 1. 0. 0.]  <--- sum over columns (remove the first axis)\n",
      "\n",
      "sum(test_2d, axis=1) = [0. 0. 1.]  <--- sum over rows (remove the second axis)\n"
     ]
    }
   ],
   "source": [
    "\"\"\" Demonstrate the sum() reduction. \"\"\"\n",
    "\n",
    "# create a 3x4 2D array of zeros\n",
    "test_2d = np.zeros((3,4))\n",
    "\n",
    "# set the an element to 1\n",
    "test_2d[2,1] = 1\n",
    "\n",
    "# print the array\n",
    "print(test_2d)\n",
    "\n",
    "# calculate the sum of the array\n",
    "print()\n",
    "print(f\"sum(test_2d) = {test_2d.sum()}  <--- sum over all elements\")\n",
    "\n",
    "# calculate the sum of the array along the first axis\n",
    "print()\n",
    "print(f\"sum(test_2d, axis=0) = {test_2d.sum(axis=0)}  <--- sum over columns (remove the first axis)\")\n",
    "\n",
    "# calculate the sum of the array along the second axis\n",
    "print()\n",
    "print(f\"sum(test_2d, axis=1) = {test_2d.sum(axis=1)}  <--- sum over rows (remove the second axis)\")\n"
   ]
  },
  {
   "cell_type": "markdown",
   "metadata": {},
   "source": [
    "`mean()`, `max()` and `min()` are other common reductions that work similarly. `numpy` also has `percentile()` and `quantile()` reductions."
   ]
  },
  {
   "cell_type": "markdown",
   "metadata": {},
   "source": [
    "## N-D Array Reductions\n",
    "\n",
    "Array reductions can also be done over multiple dimensions at once.  For example, consider that you have an array where axes 0,1,2 correspond to time, latitude, and longitude in a gridded dataset: you could average over both latitude and longitude simultaneously."
   ]
  },
  {
   "cell_type": "code",
   "execution_count": 7,
   "metadata": {},
   "outputs": [
    {
     "data": {
      "image/png": "[encoded data removed]",
      "text/plain": [
       "<Figure size 640x480 with 1 Axes>"
      ]
     },
     "metadata": {},
     "output_type": "display_data"
    }
   ],
   "source": [
    "\"\"\" Demonstrate multidimenional averaging. \"\"\"\n",
    "\n",
    "# create a fake time, lat, lon array\n",
    "gridded_array_example = np.random.normal(size=(1000, 180, 360))\n",
    "\n",
    "# calculate the mean, 5th percentile, and 95th percentile over the lat and lon axes\n",
    "# this will leave us with a 1D array of length 1000\n",
    "timeseries_mean = gridded_array_example.mean(axis=(1,2))\n",
    "timeseries_low = np.percentile(gridded_array_example, 5, axis=(1,2))\n",
    "timeseries_high = np.percentile(gridded_array_example, 95, axis=(1,2))\n",
    "\n",
    "\n",
    "\n",
    "\n",
    "# plot the 'timeseries'\n",
    "import matplotlib.pyplot as plt\n",
    "plt.plot(timeseries_mean, label = 'mean')\n",
    "plt.plot(timeseries_low, label = '5th percentile')\n",
    "plt.plot(timeseries_high, label = '95th percentile')\n",
    "plt.legend()\n",
    "plt.show()"
   ]
  },
  {
   "cell_type": "markdown",
   "metadata": {},
   "source": [
    "# Broadcasting\n",
    "\n",
    "By default, all *operations* in numpy are element-wise: `+`, `-`, `*`, `/` are all done element-by-element.  This would nominally require the arrays to have the same shape in order to use the `+` operator on them: e.g., `A + B` where `A` and `B` are arrays with the same shape.  But numpy has concepts call `broadcasting` and `conformant arrays`.  Basically, `numpy` will automatically make an array the same shape as another if there is a sane way to do so; if the arrays are *conformant*.\n",
    "\n",
    "Conformant arrays are either (1) arrays of the exact same shape, or (2) arrays that have the same *rank* (same number of axes) with one of the arrays having one or more axes of length 1.\n",
    "\n",
    "For example, consider again the gridded dataset example from the above cell.  What if we have a timeseries of, say, 'correction factors' that we want to apply to each point in space, but the correction factors depend on time.  How would we do this?  By using the `numpy.newaxis` feature to make the arrays conformant.\n",
    "\n"
   ]
  },
  {
   "cell_type": "code",
   "execution_count": 8,
   "metadata": {},
   "outputs": [
    {
     "name": "stdout",
     "output_type": "stream",
     "text": [
      "gridded_array_example.shape = (1000, 180, 360)\n",
      "correction_factors.shape = (1000,)\n",
      "correction_factors_conformant.shape = (1000, 1, 1)\n"
     ]
    },
    {
     "data": {
      "image/png": "[encoded data removed]",
      "text/plain": [
       "<Figure size 640x480 with 1 Axes>"
      ]
     },
     "metadata": {},
     "output_type": "display_data"
    }
   ],
   "source": [
    "\"\"\" Demonstrate broadcasting \"\"\"\n",
    "\n",
    "# create a fake time, lat, lon array\n",
    "gridded_array_example = np.random.normal(size=(1000, 180, 360))\n",
    "\n",
    "# create a fake array of correction factors (make the data increase linearly with time)\n",
    "correction_factors = np.linspace(-1,1,1000)\n",
    "\n",
    "# show the shapes of the arrays\n",
    "print(f\"gridded_array_example.shape = {gridded_array_example.shape}\")\n",
    "print(f\"correction_factors.shape = {correction_factors.shape}\")\n",
    "\n",
    "# create a conformant version of the correction factors array\n",
    "# this is a 3D array, where each 2D slice is the same\n",
    "correction_factors_conformant = correction_factors[:,np.newaxis,np.newaxis]\n",
    "\n",
    "# show the shape of the conformant array\n",
    "print(f\"correction_factors_conformant.shape = {correction_factors_conformant.shape}\")\n",
    "\n",
    "# add the correction factors to the gridded array\n",
    "gridded_array_corrected = gridded_array_example + correction_factors_conformant\n",
    "\n",
    "# calculate the mean, 5th percentile, and 95th percentile over the lat and lon axes\n",
    "# this will leave us with a 1D array of length 1000\n",
    "timeseries_mean = gridded_array_corrected.mean(axis=(1,2))\n",
    "timeseries_low = np.percentile(gridded_array_corrected, 5, axis=(1,2))\n",
    "timeseries_high = np.percentile(gridded_array_corrected, 95, axis=(1,2))\n",
    "\n",
    "# plot the 'timeseries'\n",
    "plt.plot(timeseries_mean, label = 'mean')\n",
    "plt.plot(timeseries_low, label = '5th percentile')\n",
    "plt.plot(timeseries_high, label = '95th percentile')\n",
    "plt.legend()\n",
    "plt.show()"
   ]
  },
  {
   "cell_type": "code",
   "execution_count": null,
   "metadata": {},
   "outputs": [],
   "source": []
  }
 ],
 "metadata": {
  "kernelspec": {
   "display_name": "climate_py39",
   "language": "python",
   "name": "python3"
  },
  "language_info": {
   "codemirror_mode": {
    "name": "ipython",
    "version": 3
   },
   "file_extension": ".py",
   "mimetype": "text/x-python",
   "name": "python",
   "nbconvert_exporter": "python",
   "pygments_lexer": "ipython3",
   "version": "3.9.16"
  },
  "orig_nbformat": 4
 },
 "nbformat": 4,
 "nbformat_minor": 2
}
